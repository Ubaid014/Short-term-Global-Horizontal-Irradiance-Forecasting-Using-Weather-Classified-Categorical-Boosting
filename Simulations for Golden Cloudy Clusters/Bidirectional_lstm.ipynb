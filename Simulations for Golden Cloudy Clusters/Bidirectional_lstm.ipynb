{
 "cells": [
  {
   "cell_type": "code",
   "execution_count": 30,
   "metadata": {},
   "outputs": [],
   "source": [
    "import numpy as np\n",
    "import pandas as pd\n",
    "import matplotlib.pyplot as plt\n",
    "from sklearn.preprocessing import MinMaxScaler\n",
    "from keras.models import Sequential\n",
    "from keras.layers import Dense \n",
    "from keras.layers import Dropout\n",
    "from keras.layers import LSTM\n",
    "from keras.layers import Dense, Dropout, Embedding, LSTM, Bidirectional\n",
    "from sklearn.metrics import mean_squared_error\n"
   ]
  },
  {
   "cell_type": "code",
   "execution_count": 31,
   "metadata": {},
   "outputs": [
    {
     "data": {
      "text/html": [
       "<div>\n",
       "<style scoped>\n",
       "    .dataframe tbody tr th:only-of-type {\n",
       "        vertical-align: middle;\n",
       "    }\n",
       "\n",
       "    .dataframe tbody tr th {\n",
       "        vertical-align: top;\n",
       "    }\n",
       "\n",
       "    .dataframe thead th {\n",
       "        text-align: right;\n",
       "    }\n",
       "</style>\n",
       "<table border=\"1\" class=\"dataframe\">\n",
       "  <thead>\n",
       "    <tr style=\"text-align: right;\">\n",
       "      <th></th>\n",
       "      <th>GHI</th>\n",
       "      <th>Clearsky DHI</th>\n",
       "      <th>cluster</th>\n",
       "      <th>DHI</th>\n",
       "      <th>DNI</th>\n",
       "      <th>Wind Speed</th>\n",
       "      <th>Relative Humidity</th>\n",
       "      <th>Temperature</th>\n",
       "      <th>Clearsky DNI</th>\n",
       "      <th>Clearsky GHI</th>\n",
       "      <th>Cloud Type</th>\n",
       "      <th>Solar Zenith Angle</th>\n",
       "    </tr>\n",
       "  </thead>\n",
       "  <tbody>\n",
       "    <tr>\n",
       "      <th>0</th>\n",
       "      <td>0</td>\n",
       "      <td>0</td>\n",
       "      <td>1</td>\n",
       "      <td>0</td>\n",
       "      <td>0</td>\n",
       "      <td>5.6</td>\n",
       "      <td>50.05</td>\n",
       "      <td>-5.4</td>\n",
       "      <td>0</td>\n",
       "      <td>0</td>\n",
       "      <td>7</td>\n",
       "      <td>163.33</td>\n",
       "    </tr>\n",
       "    <tr>\n",
       "      <th>1</th>\n",
       "      <td>0</td>\n",
       "      <td>0</td>\n",
       "      <td>1</td>\n",
       "      <td>0</td>\n",
       "      <td>0</td>\n",
       "      <td>5.7</td>\n",
       "      <td>49.67</td>\n",
       "      <td>-5.3</td>\n",
       "      <td>0</td>\n",
       "      <td>0</td>\n",
       "      <td>7</td>\n",
       "      <td>162.48</td>\n",
       "    </tr>\n",
       "    <tr>\n",
       "      <th>2</th>\n",
       "      <td>0</td>\n",
       "      <td>0</td>\n",
       "      <td>1</td>\n",
       "      <td>0</td>\n",
       "      <td>0</td>\n",
       "      <td>5.8</td>\n",
       "      <td>52.92</td>\n",
       "      <td>-5.1</td>\n",
       "      <td>0</td>\n",
       "      <td>0</td>\n",
       "      <td>8</td>\n",
       "      <td>159.58</td>\n",
       "    </tr>\n",
       "    <tr>\n",
       "      <th>3</th>\n",
       "      <td>0</td>\n",
       "      <td>0</td>\n",
       "      <td>1</td>\n",
       "      <td>0</td>\n",
       "      <td>0</td>\n",
       "      <td>6.0</td>\n",
       "      <td>52.45</td>\n",
       "      <td>-5.0</td>\n",
       "      <td>0</td>\n",
       "      <td>0</td>\n",
       "      <td>0</td>\n",
       "      <td>155.37</td>\n",
       "    </tr>\n",
       "    <tr>\n",
       "      <th>4</th>\n",
       "      <td>0</td>\n",
       "      <td>0</td>\n",
       "      <td>1</td>\n",
       "      <td>0</td>\n",
       "      <td>0</td>\n",
       "      <td>6.1</td>\n",
       "      <td>55.58</td>\n",
       "      <td>-4.9</td>\n",
       "      <td>0</td>\n",
       "      <td>0</td>\n",
       "      <td>0</td>\n",
       "      <td>150.41</td>\n",
       "    </tr>\n",
       "  </tbody>\n",
       "</table>\n",
       "</div>"
      ],
      "text/plain": [
       "   GHI  Clearsky DHI  cluster  DHI  DNI  Wind Speed  Relative Humidity  \\\n",
       "0    0             0        1    0    0         5.6              50.05   \n",
       "1    0             0        1    0    0         5.7              49.67   \n",
       "2    0             0        1    0    0         5.8              52.92   \n",
       "3    0             0        1    0    0         6.0              52.45   \n",
       "4    0             0        1    0    0         6.1              55.58   \n",
       "\n",
       "   Temperature  Clearsky DNI  Clearsky GHI  Cloud Type  Solar Zenith Angle  \n",
       "0         -5.4             0             0           7              163.33  \n",
       "1         -5.3             0             0           7              162.48  \n",
       "2         -5.1             0             0           8              159.58  \n",
       "3         -5.0             0             0           0              155.37  \n",
       "4         -4.9             0             0           0              150.41  "
      ]
     },
     "execution_count": 31,
     "metadata": {},
     "output_type": "execute_result"
    }
   ],
   "source": [
    "df = pd.read_csv('cloudy_cluster.csv')\n",
    "df.head()"
   ]
  },
  {
   "cell_type": "code",
   "execution_count": 32,
   "metadata": {},
   "outputs": [],
   "source": [
    "df.dropna(inplace=True)"
   ]
  },
  {
   "cell_type": "code",
   "execution_count": 33,
   "metadata": {},
   "outputs": [],
   "source": [
    "df.drop([\"cluster\"],axis=1,inplace=True)"
   ]
  },
  {
   "cell_type": "code",
   "execution_count": 34,
   "metadata": {},
   "outputs": [
    {
     "data": {
      "text/html": [
       "<div>\n",
       "<style scoped>\n",
       "    .dataframe tbody tr th:only-of-type {\n",
       "        vertical-align: middle;\n",
       "    }\n",
       "\n",
       "    .dataframe tbody tr th {\n",
       "        vertical-align: top;\n",
       "    }\n",
       "\n",
       "    .dataframe thead th {\n",
       "        text-align: right;\n",
       "    }\n",
       "</style>\n",
       "<table border=\"1\" class=\"dataframe\">\n",
       "  <thead>\n",
       "    <tr style=\"text-align: right;\">\n",
       "      <th></th>\n",
       "      <th>GHI</th>\n",
       "      <th>Clearsky DHI</th>\n",
       "      <th>DHI</th>\n",
       "      <th>DNI</th>\n",
       "      <th>Wind Speed</th>\n",
       "      <th>Relative Humidity</th>\n",
       "      <th>Temperature</th>\n",
       "      <th>Clearsky DNI</th>\n",
       "      <th>Clearsky GHI</th>\n",
       "      <th>Cloud Type</th>\n",
       "      <th>Solar Zenith Angle</th>\n",
       "    </tr>\n",
       "  </thead>\n",
       "  <tbody>\n",
       "    <tr>\n",
       "      <th>0</th>\n",
       "      <td>0</td>\n",
       "      <td>0</td>\n",
       "      <td>0</td>\n",
       "      <td>0</td>\n",
       "      <td>5.6</td>\n",
       "      <td>50.05</td>\n",
       "      <td>-5.4</td>\n",
       "      <td>0</td>\n",
       "      <td>0</td>\n",
       "      <td>7</td>\n",
       "      <td>163.33</td>\n",
       "    </tr>\n",
       "    <tr>\n",
       "      <th>1</th>\n",
       "      <td>0</td>\n",
       "      <td>0</td>\n",
       "      <td>0</td>\n",
       "      <td>0</td>\n",
       "      <td>5.7</td>\n",
       "      <td>49.67</td>\n",
       "      <td>-5.3</td>\n",
       "      <td>0</td>\n",
       "      <td>0</td>\n",
       "      <td>7</td>\n",
       "      <td>162.48</td>\n",
       "    </tr>\n",
       "    <tr>\n",
       "      <th>2</th>\n",
       "      <td>0</td>\n",
       "      <td>0</td>\n",
       "      <td>0</td>\n",
       "      <td>0</td>\n",
       "      <td>5.8</td>\n",
       "      <td>52.92</td>\n",
       "      <td>-5.1</td>\n",
       "      <td>0</td>\n",
       "      <td>0</td>\n",
       "      <td>8</td>\n",
       "      <td>159.58</td>\n",
       "    </tr>\n",
       "    <tr>\n",
       "      <th>3</th>\n",
       "      <td>0</td>\n",
       "      <td>0</td>\n",
       "      <td>0</td>\n",
       "      <td>0</td>\n",
       "      <td>6.0</td>\n",
       "      <td>52.45</td>\n",
       "      <td>-5.0</td>\n",
       "      <td>0</td>\n",
       "      <td>0</td>\n",
       "      <td>0</td>\n",
       "      <td>155.37</td>\n",
       "    </tr>\n",
       "    <tr>\n",
       "      <th>4</th>\n",
       "      <td>0</td>\n",
       "      <td>0</td>\n",
       "      <td>0</td>\n",
       "      <td>0</td>\n",
       "      <td>6.1</td>\n",
       "      <td>55.58</td>\n",
       "      <td>-4.9</td>\n",
       "      <td>0</td>\n",
       "      <td>0</td>\n",
       "      <td>0</td>\n",
       "      <td>150.41</td>\n",
       "    </tr>\n",
       "  </tbody>\n",
       "</table>\n",
       "</div>"
      ],
      "text/plain": [
       "   GHI  Clearsky DHI  DHI  DNI  Wind Speed  Relative Humidity  Temperature  \\\n",
       "0    0             0    0    0         5.6              50.05         -5.4   \n",
       "1    0             0    0    0         5.7              49.67         -5.3   \n",
       "2    0             0    0    0         5.8              52.92         -5.1   \n",
       "3    0             0    0    0         6.0              52.45         -5.0   \n",
       "4    0             0    0    0         6.1              55.58         -4.9   \n",
       "\n",
       "   Clearsky DNI  Clearsky GHI  Cloud Type  Solar Zenith Angle  \n",
       "0             0             0           7              163.33  \n",
       "1             0             0           7              162.48  \n",
       "2             0             0           8              159.58  \n",
       "3             0             0           0              155.37  \n",
       "4             0             0           0              150.41  "
      ]
     },
     "execution_count": 34,
     "metadata": {},
     "output_type": "execute_result"
    }
   ],
   "source": [
    "df.head()"
   ]
  },
  {
   "cell_type": "code",
   "execution_count": 35,
   "metadata": {},
   "outputs": [
    {
     "data": {
      "text/html": [
       "<div>\n",
       "<style scoped>\n",
       "    .dataframe tbody tr th:only-of-type {\n",
       "        vertical-align: middle;\n",
       "    }\n",
       "\n",
       "    .dataframe tbody tr th {\n",
       "        vertical-align: top;\n",
       "    }\n",
       "\n",
       "    .dataframe thead th {\n",
       "        text-align: right;\n",
       "    }\n",
       "</style>\n",
       "<table border=\"1\" class=\"dataframe\">\n",
       "  <thead>\n",
       "    <tr style=\"text-align: right;\">\n",
       "      <th></th>\n",
       "      <th>GHI</th>\n",
       "      <th>Clearsky DHI</th>\n",
       "      <th>DHI</th>\n",
       "      <th>DNI</th>\n",
       "      <th>Wind Speed</th>\n",
       "      <th>Relative Humidity</th>\n",
       "      <th>Temperature</th>\n",
       "      <th>Clearsky DNI</th>\n",
       "      <th>Clearsky GHI</th>\n",
       "      <th>Cloud Type</th>\n",
       "      <th>Solar Zenith Angle</th>\n",
       "    </tr>\n",
       "  </thead>\n",
       "  <tbody>\n",
       "    <tr>\n",
       "      <th>count</th>\n",
       "      <td>12635.000000</td>\n",
       "      <td>12635.000000</td>\n",
       "      <td>12635.000000</td>\n",
       "      <td>12635.000000</td>\n",
       "      <td>12635.000000</td>\n",
       "      <td>12635.000000</td>\n",
       "      <td>12635.000000</td>\n",
       "      <td>12635.000000</td>\n",
       "      <td>12635.000000</td>\n",
       "      <td>12635.000000</td>\n",
       "      <td>12635.000000</td>\n",
       "    </tr>\n",
       "    <tr>\n",
       "      <th>mean</th>\n",
       "      <td>45.259201</td>\n",
       "      <td>18.276138</td>\n",
       "      <td>23.818283</td>\n",
       "      <td>90.733043</td>\n",
       "      <td>2.091619</td>\n",
       "      <td>55.478055</td>\n",
       "      <td>4.675797</td>\n",
       "      <td>191.764306</td>\n",
       "      <td>83.672893</td>\n",
       "      <td>2.693550</td>\n",
       "      <td>105.951741</td>\n",
       "    </tr>\n",
       "    <tr>\n",
       "      <th>std</th>\n",
       "      <td>85.973604</td>\n",
       "      <td>35.184072</td>\n",
       "      <td>48.906084</td>\n",
       "      <td>203.054985</td>\n",
       "      <td>1.157924</td>\n",
       "      <td>17.844177</td>\n",
       "      <td>9.852023</td>\n",
       "      <td>316.693066</td>\n",
       "      <td>177.238869</td>\n",
       "      <td>3.077329</td>\n",
       "      <td>28.252325</td>\n",
       "    </tr>\n",
       "    <tr>\n",
       "      <th>min</th>\n",
       "      <td>0.000000</td>\n",
       "      <td>0.000000</td>\n",
       "      <td>0.000000</td>\n",
       "      <td>0.000000</td>\n",
       "      <td>0.200000</td>\n",
       "      <td>7.910000</td>\n",
       "      <td>-19.500000</td>\n",
       "      <td>0.000000</td>\n",
       "      <td>0.000000</td>\n",
       "      <td>0.000000</td>\n",
       "      <td>16.250000</td>\n",
       "    </tr>\n",
       "    <tr>\n",
       "      <th>25%</th>\n",
       "      <td>0.000000</td>\n",
       "      <td>0.000000</td>\n",
       "      <td>0.000000</td>\n",
       "      <td>0.000000</td>\n",
       "      <td>1.300000</td>\n",
       "      <td>42.360000</td>\n",
       "      <td>-3.400000</td>\n",
       "      <td>0.000000</td>\n",
       "      <td>0.000000</td>\n",
       "      <td>0.000000</td>\n",
       "      <td>84.465000</td>\n",
       "    </tr>\n",
       "    <tr>\n",
       "      <th>50%</th>\n",
       "      <td>0.000000</td>\n",
       "      <td>0.000000</td>\n",
       "      <td>0.000000</td>\n",
       "      <td>0.000000</td>\n",
       "      <td>1.800000</td>\n",
       "      <td>56.690000</td>\n",
       "      <td>3.400000</td>\n",
       "      <td>0.000000</td>\n",
       "      <td>0.000000</td>\n",
       "      <td>0.000000</td>\n",
       "      <td>107.280000</td>\n",
       "    </tr>\n",
       "    <tr>\n",
       "      <th>75%</th>\n",
       "      <td>46.000000</td>\n",
       "      <td>29.000000</td>\n",
       "      <td>29.000000</td>\n",
       "      <td>29.000000</td>\n",
       "      <td>2.700000</td>\n",
       "      <td>67.660000</td>\n",
       "      <td>13.000000</td>\n",
       "      <td>359.000000</td>\n",
       "      <td>71.000000</td>\n",
       "      <td>6.000000</td>\n",
       "      <td>126.155000</td>\n",
       "    </tr>\n",
       "    <tr>\n",
       "      <th>max</th>\n",
       "      <td>332.000000</td>\n",
       "      <td>339.000000</td>\n",
       "      <td>295.000000</td>\n",
       "      <td>949.000000</td>\n",
       "      <td>8.800000</td>\n",
       "      <td>98.910000</td>\n",
       "      <td>32.100000</td>\n",
       "      <td>1021.000000</td>\n",
       "      <td>1025.000000</td>\n",
       "      <td>9.000000</td>\n",
       "      <td>163.760000</td>\n",
       "    </tr>\n",
       "  </tbody>\n",
       "</table>\n",
       "</div>"
      ],
      "text/plain": [
       "                GHI  Clearsky DHI           DHI           DNI    Wind Speed  \\\n",
       "count  12635.000000  12635.000000  12635.000000  12635.000000  12635.000000   \n",
       "mean      45.259201     18.276138     23.818283     90.733043      2.091619   \n",
       "std       85.973604     35.184072     48.906084    203.054985      1.157924   \n",
       "min        0.000000      0.000000      0.000000      0.000000      0.200000   \n",
       "25%        0.000000      0.000000      0.000000      0.000000      1.300000   \n",
       "50%        0.000000      0.000000      0.000000      0.000000      1.800000   \n",
       "75%       46.000000     29.000000     29.000000     29.000000      2.700000   \n",
       "max      332.000000    339.000000    295.000000    949.000000      8.800000   \n",
       "\n",
       "       Relative Humidity   Temperature  Clearsky DNI  Clearsky GHI  \\\n",
       "count       12635.000000  12635.000000  12635.000000  12635.000000   \n",
       "mean           55.478055      4.675797    191.764306     83.672893   \n",
       "std            17.844177      9.852023    316.693066    177.238869   \n",
       "min             7.910000    -19.500000      0.000000      0.000000   \n",
       "25%            42.360000     -3.400000      0.000000      0.000000   \n",
       "50%            56.690000      3.400000      0.000000      0.000000   \n",
       "75%            67.660000     13.000000    359.000000     71.000000   \n",
       "max            98.910000     32.100000   1021.000000   1025.000000   \n",
       "\n",
       "         Cloud Type  Solar Zenith Angle  \n",
       "count  12635.000000        12635.000000  \n",
       "mean       2.693550          105.951741  \n",
       "std        3.077329           28.252325  \n",
       "min        0.000000           16.250000  \n",
       "25%        0.000000           84.465000  \n",
       "50%        0.000000          107.280000  \n",
       "75%        6.000000          126.155000  \n",
       "max        9.000000          163.760000  "
      ]
     },
     "execution_count": 35,
     "metadata": {},
     "output_type": "execute_result"
    }
   ],
   "source": [
    "df.describe()"
   ]
  },
  {
   "cell_type": "code",
   "execution_count": 36,
   "metadata": {},
   "outputs": [],
   "source": [
    "s1= MinMaxScaler(feature_range=(-1,1))\n",
    "Xs= s1.fit_transform(df)"
   ]
  },
  {
   "cell_type": "code",
   "execution_count": 37,
   "metadata": {},
   "outputs": [],
   "source": [
    "\n",
    "s2=MinMaxScaler(feature_range=(-1,1))\n",
    "Ys= s2.fit_transform(df[['GHI']])"
   ]
  },
  {
   "cell_type": "code",
   "execution_count": 38,
   "metadata": {},
   "outputs": [
    {
     "data": {
      "text/plain": [
       "(12635, 11)"
      ]
     },
     "execution_count": 38,
     "metadata": {},
     "output_type": "execute_result"
    }
   ],
   "source": [
    "Xs.shape"
   ]
  },
  {
   "cell_type": "code",
   "execution_count": 39,
   "metadata": {},
   "outputs": [],
   "source": [
    "#Xs.reshape(1,662,6)"
   ]
  },
  {
   "cell_type": "code",
   "execution_count": 40,
   "metadata": {},
   "outputs": [
    {
     "data": {
      "text/plain": [
       "(12635, 1)"
      ]
     },
     "execution_count": 40,
     "metadata": {},
     "output_type": "execute_result"
    }
   ],
   "source": [
    "Ys.shape"
   ]
  },
  {
   "cell_type": "code",
   "execution_count": 41,
   "metadata": {},
   "outputs": [],
   "source": [
    "window= 5\n",
    "X=[]\n",
    "Y=[]\n",
    "for i in range(window,len(Xs)):\n",
    "    X.append(Xs[i-window:i,:])\n",
    "    Y.append(Ys[i])"
   ]
  },
  {
   "cell_type": "code",
   "execution_count": 42,
   "metadata": {},
   "outputs": [],
   "source": [
    "X,Y = np.array(X), np.array(Y)"
   ]
  },
  {
   "cell_type": "code",
   "execution_count": 43,
   "metadata": {},
   "outputs": [
    {
     "data": {
      "text/plain": [
       "((10108, 5, 11), (10108, 1), (2522, 5, 11), (2522, 1))"
      ]
     },
     "execution_count": 43,
     "metadata": {},
     "output_type": "execute_result"
    }
   ],
   "source": [
    "X_train1, y_train1 = X[:10108], Y[:10108]\n",
    "#X_val1, y_val1 = X[3530:3971], Y[3530:3971]\n",
    "X_test1, y_test1 = X[10108:], Y[10108:]\n",
    "X_train1.shape, y_train1.shape,X_test1.shape, y_test1.shape\n"
   ]
  },
  {
   "cell_type": "code",
   "execution_count": 44,
   "metadata": {},
   "outputs": [],
   "source": [
    "from tensorflow.keras.models import Sequential\n",
    "from tensorflow.keras.layers import *\n",
    "from tensorflow.keras.callbacks import ModelCheckpoint\n",
    "from tensorflow.keras.losses import MeanSquaredError\n",
    "from tensorflow.keras.metrics import RootMeanSquaredError\n",
    "from tensorflow.keras.optimizers import RMSprop\n",
    "from tensorflow.keras.optimizers import Adam\n",
    "import tensorflow as tf \n",
    "model= Sequential()\n",
    "#model.add(LSTM(units=50,return_sequences=True,input_shape=(X.shape[1],X.shape[2])))  \n",
    "#model.add(Dropout (0.2))\n",
    "#model.add(LSTM(units=50,return_sequences=True))\n",
    "\n",
    "#model.add(Dropout (0.2))\n",
    "#model.add(LSTM(units=50))\n",
    "#model.add(Dropout (0.2))\n",
    "#model.add(Dense(units=1))\n",
    "#model.compile(optimizer= 'adam',loss='mean_squared_error',metrics=['accuracy'])\n",
    "\n",
    "# Adding the first LSTM layer and some Dropout regularisation\n",
    "model.add(Bidirectional(LSTM(units = 64, activation='relu', return_sequences=True,input_shape=(X_train1.shape[1], X_train1.shape[2]))))\n",
    "model.add(Dropout(0.1))\n",
    "model.add(Bidirectional(LSTM(units = 96, activation='relu',return_sequences=True )))\n",
    "model.add(Dropout(0.1))\n",
    "model.add(Bidirectional(LSTM(units = 32, activation='relu')))\n",
    "model.add(Dropout(0.1))\n",
    "\n",
    "# Adding the output layer\n",
    "model.add(Dense(units = 10))    \n",
    "model.add(Dense(units = 1))     \n",
    "\n",
    "model.compile(loss=MeanSquaredError(), optimizer=Adam(learning_rate=0.01), metrics=[RootMeanSquaredError()])"
   ]
  },
  {
   "cell_type": "code",
   "execution_count": 45,
   "metadata": {},
   "outputs": [
    {
     "name": "stdout",
     "output_type": "stream",
     "text": [
      "Epoch 1/20\n",
      "316/316 [==============================] - 19s 26ms/step - loss: 0.1272 - root_mean_squared_error: 0.3567\n",
      "Epoch 2/20\n",
      "316/316 [==============================] - 8s 25ms/step - loss: 0.0316 - root_mean_squared_error: 0.1777\n",
      "Epoch 3/20\n",
      "316/316 [==============================] - 8s 25ms/step - loss: 0.0272 - root_mean_squared_error: 0.1649\n",
      "Epoch 4/20\n",
      "316/316 [==============================] - 7s 21ms/step - loss: 0.0257 - root_mean_squared_error: 0.1604\n",
      "Epoch 5/20\n",
      "316/316 [==============================] - 7s 21ms/step - loss: 0.0251 - root_mean_squared_error: 0.1583\n",
      "Epoch 6/20\n",
      "316/316 [==============================] - 7s 22ms/step - loss: 0.0250 - root_mean_squared_error: 0.1580\n",
      "Epoch 7/20\n",
      "316/316 [==============================] - 7s 21ms/step - loss: 0.0235 - root_mean_squared_error: 0.1534\n",
      "Epoch 8/20\n",
      "316/316 [==============================] - 7s 22ms/step - loss: 0.0260 - root_mean_squared_error: 0.1613\n",
      "Epoch 9/20\n",
      "316/316 [==============================] - 7s 22ms/step - loss: 0.0243 - root_mean_squared_error: 0.1560\n",
      "Epoch 10/20\n",
      "316/316 [==============================] - 7s 22ms/step - loss: 0.0226 - root_mean_squared_error: 0.1503\n",
      "Epoch 11/20\n",
      "316/316 [==============================] - 7s 22ms/step - loss: 0.0234 - root_mean_squared_error: 0.1530\n",
      "Epoch 12/20\n",
      "316/316 [==============================] - 7s 22ms/step - loss: 0.0628 - root_mean_squared_error: 0.2506\n",
      "Epoch 13/20\n",
      "316/316 [==============================] - 7s 22ms/step - loss: 0.0238 - root_mean_squared_error: 0.1544\n",
      "Epoch 14/20\n",
      "316/316 [==============================] - 7s 22ms/step - loss: 0.0232 - root_mean_squared_error: 0.1522\n",
      "Epoch 15/20\n",
      "316/316 [==============================] - 7s 23ms/step - loss: 0.0217 - root_mean_squared_error: 0.1473\n",
      "Epoch 16/20\n",
      "316/316 [==============================] - 7s 22ms/step - loss: 0.0211 - root_mean_squared_error: 0.1453\n",
      "Epoch 17/20\n",
      "316/316 [==============================] - 7s 22ms/step - loss: 0.0215 - root_mean_squared_error: 0.1467\n",
      "Epoch 18/20\n",
      "316/316 [==============================] - 7s 23ms/step - loss: 0.0207 - root_mean_squared_error: 0.1437\n",
      "Epoch 19/20\n",
      "316/316 [==============================] - 7s 22ms/step - loss: 0.0207 - root_mean_squared_error: 0.1440\n",
      "Epoch 20/20\n",
      "316/316 [==============================] - 7s 22ms/step - loss: 0.0206 - root_mean_squared_error: 0.1436\n"
     ]
    }
   ],
   "source": [
    "#from keras.callbacks import EarlyStopping\n",
    "#earlyStop=EarlyStopping(monitor=\"val_loss\",verbose=2,mode='min',patience=50)\n",
    "import time \n",
    "start= time.time()\n",
    "history=model.fit(X_train1,y_train1,epochs=20)\n",
    "end= time.time()\n",
    "continental= end-start"
   ]
  },
  {
   "cell_type": "code",
   "execution_count": 46,
   "metadata": {},
   "outputs": [
    {
     "data": {
      "text/plain": [
       "[<matplotlib.lines.Line2D at 0x160459e7f70>]"
      ]
     },
     "execution_count": 46,
     "metadata": {},
     "output_type": "execute_result"
    },
    {
     "data": {
      "image/png": "[encoded data removed]",
      "text/plain": [
       "<Figure size 432x288 with 1 Axes>"
      ]
     },
     "metadata": {
      "needs_background": "light"
     },
     "output_type": "display_data"
    }
   ],
   "source": [
    "loss_per_epoch = model.history.history['loss']\n",
    "plt.plot(range(len(loss_per_epoch)),loss_per_epoch)"
   ]
  },
  {
   "cell_type": "code",
   "execution_count": 47,
   "metadata": {},
   "outputs": [
    {
     "name": "stdout",
     "output_type": "stream",
     "text": [
      "79/79 [==============================] - 2s 6ms/step\n",
      "inference time: 1.6366252899169922\n",
      "[[-0.99456954]\n",
      " [-0.9950776 ]\n",
      " [-0.9955596 ]\n",
      " ...\n",
      " [-0.9972464 ]\n",
      " [-0.9981251 ]\n",
      " [-0.9984876 ]]\n"
     ]
    }
   ],
   "source": [
    "import time\n",
    "start=time.time()\n",
    "Yp= model.predict(X_test1)\n",
    "end=time.time()\n",
    "continental=end-start\n",
    "print(\"inference time:\",continental)\n",
    "print(Yp)"
   ]
  },
  {
   "cell_type": "code",
   "execution_count": 48,
   "metadata": {},
   "outputs": [
    {
     "data": {
      "text/plain": [
       "(2522, 1)"
      ]
     },
     "execution_count": 48,
     "metadata": {},
     "output_type": "execute_result"
    }
   ],
   "source": [
    "Yp.shape"
   ]
  },
  {
   "cell_type": "code",
   "execution_count": 49,
   "metadata": {},
   "outputs": [],
   "source": [
    "pred= s2.inverse_transform(Yp)"
   ]
  },
  {
   "cell_type": "code",
   "execution_count": 50,
   "metadata": {},
   "outputs": [],
   "source": [
    "Actual= s2.inverse_transform(y_test1)"
   ]
  },
  {
   "cell_type": "code",
   "execution_count": 51,
   "metadata": {},
   "outputs": [],
   "source": [
    "x= pred\n",
    "z= Actual"
   ]
  },
  {
   "cell_type": "code",
   "execution_count": 52,
   "metadata": {},
   "outputs": [
    {
     "name": "stdout",
     "output_type": "stream",
     "text": [
      "Root Mean Square Error: 19.40164026550316\n",
      "Mean Square Error: 376.4236449919935\n",
      "Mean Absolute Error: 8.087846316674888\n",
      "Mean Absolute Percentage Error: 3147985202862107.5\n"
     ]
    }
   ],
   "source": [
    "from sklearn.metrics import mean_squared_error\n",
    "import math\n",
    "MSE = mean_squared_error(z,x)\n",
    "RMSE = math.sqrt(MSE)\n",
    "from sklearn.metrics import mean_absolute_error\n",
    "MAE=mean_absolute_error(z,x)\n",
    "from sklearn.metrics import mean_absolute_percentage_error\n",
    "MAPE=mean_absolute_percentage_error(z,x)\n",
    "print(\"Root Mean Square Error:\",RMSE)\n",
    "print(\"Mean Square Error:\", MSE)\n",
    "print(\"Mean Absolute Error:\",MAE)\n",
    "print(\"Mean Absolute Percentage Error:\",MAPE)"
   ]
  },
  {
   "cell_type": "code",
   "execution_count": 53,
   "metadata": {},
   "outputs": [
    {
     "data": {
      "text/plain": [
       "(299.9267, -0.9862313, 42.690475)"
      ]
     },
     "execution_count": 53,
     "metadata": {},
     "output_type": "execute_result"
    }
   ],
   "source": [
    "max= x.max()\n",
    "min= x.min()\n",
    "mean= x.mean()\n",
    "max,min,mean"
   ]
  },
  {
   "cell_type": "code",
   "execution_count": 54,
   "metadata": {},
   "outputs": [
    {
     "data": {
      "text/plain": [
       "6.447592680558456"
      ]
     },
     "execution_count": 54,
     "metadata": {},
     "output_type": "execute_result"
    }
   ],
   "source": [
    "NRMSE= (RMSE/(max-min))*100\n",
    "NRMSE"
   ]
  },
  {
   "cell_type": "code",
   "execution_count": 55,
   "metadata": {},
   "outputs": [],
   "source": [
    "Calculated =pd.DataFrame(x, columns = ['Prediction'])\n",
    "Actual = pd.DataFrame(z, columns = ['Actual'])\n"
   ]
  },
  {
   "cell_type": "code",
   "execution_count": 56,
   "metadata": {},
   "outputs": [],
   "source": [
    "Calculated.to_csv(r\"E:\\CatBoost_1\\Golden\\LSTM\\cloudy_hours\\prediction.csv\")"
   ]
  },
  {
   "cell_type": "code",
   "execution_count": 57,
   "metadata": {},
   "outputs": [],
   "source": [
    "Actual.to_csv(r\"E:\\CatBoost_1\\Golden\\LSTM\\cloudy_hours\\Actual.csv\")"
   ]
  }
 ],
 "metadata": {
  "kernelspec": {
   "display_name": "Python 3.10.6 64-bit",
   "language": "python",
   "name": "python3"
  },
  "language_info": {
   "codemirror_mode": {
    "name": "ipython",
    "version": 3
   },
   "file_extension": ".py",
   "mimetype": "text/x-python",
   "name": "python",
   "nbconvert_exporter": "python",
   "pygments_lexer": "ipython3",
   "version": "3.10.9"
  },
  "orig_nbformat": 4,
  "vscode": {
   "interpreter": {
    "hash": "ac4210170004fc925580c073d42b7c18005567bca7a1d143f4e4d5a93e6c63c2"
   }
  }
 },
 "nbformat": 4,
 "nbformat_minor": 2
}
