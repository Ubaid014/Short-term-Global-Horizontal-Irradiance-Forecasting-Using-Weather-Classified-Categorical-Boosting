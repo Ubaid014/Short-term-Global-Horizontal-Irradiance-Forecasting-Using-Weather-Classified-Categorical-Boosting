{
 "cells": [
  {
   "cell_type": "code",
   "execution_count": 1,
   "metadata": {},
   "outputs": [],
   "source": [
    "import numpy as np\n",
    "import pandas as pd\n",
    "import matplotlib.pyplot as plt\n",
    "from sklearn.preprocessing import MinMaxScaler\n",
    "from keras.models import Sequential\n",
    "from keras.layers import Dense \n",
    "from keras.layers import Dropout\n",
    "from keras.layers import LSTM\n",
    "from keras.layers import Dense, Dropout, Embedding, LSTM, Bidirectional\n",
    "from sklearn.metrics import mean_squared_error\n"
   ]
  },
  {
   "cell_type": "code",
   "execution_count": 2,
   "metadata": {},
   "outputs": [
    {
     "data": {
      "text/html": [
       "<div>\n",
       "<style scoped>\n",
       "    .dataframe tbody tr th:only-of-type {\n",
       "        vertical-align: middle;\n",
       "    }\n",
       "\n",
       "    .dataframe tbody tr th {\n",
       "        vertical-align: top;\n",
       "    }\n",
       "\n",
       "    .dataframe thead th {\n",
       "        text-align: right;\n",
       "    }\n",
       "</style>\n",
       "<table border=\"1\" class=\"dataframe\">\n",
       "  <thead>\n",
       "    <tr style=\"text-align: right;\">\n",
       "      <th></th>\n",
       "      <th>Clearsky DHI</th>\n",
       "      <th>GHI</th>\n",
       "      <th>cluster</th>\n",
       "      <th>Temperature</th>\n",
       "      <th>Clearsky DNI</th>\n",
       "      <th>Relative Humidity</th>\n",
       "      <th>Wind Speed</th>\n",
       "      <th>DNI</th>\n",
       "      <th>Cloud Type</th>\n",
       "      <th>Clearsky GHI</th>\n",
       "      <th>DHI</th>\n",
       "      <th>Solar Zenith Angle</th>\n",
       "    </tr>\n",
       "  </thead>\n",
       "  <tbody>\n",
       "    <tr>\n",
       "      <th>0</th>\n",
       "      <td>0</td>\n",
       "      <td>0</td>\n",
       "      <td>0</td>\n",
       "      <td>5.0</td>\n",
       "      <td>0</td>\n",
       "      <td>63.52</td>\n",
       "      <td>1.4</td>\n",
       "      <td>0</td>\n",
       "      <td>0</td>\n",
       "      <td>0</td>\n",
       "      <td>0</td>\n",
       "      <td>174.62</td>\n",
       "    </tr>\n",
       "    <tr>\n",
       "      <th>1</th>\n",
       "      <td>0</td>\n",
       "      <td>0</td>\n",
       "      <td>0</td>\n",
       "      <td>4.7</td>\n",
       "      <td>0</td>\n",
       "      <td>65.31</td>\n",
       "      <td>1.4</td>\n",
       "      <td>0</td>\n",
       "      <td>0</td>\n",
       "      <td>0</td>\n",
       "      <td>0</td>\n",
       "      <td>161.76</td>\n",
       "    </tr>\n",
       "    <tr>\n",
       "      <th>2</th>\n",
       "      <td>0</td>\n",
       "      <td>0</td>\n",
       "      <td>0</td>\n",
       "      <td>6.2</td>\n",
       "      <td>0</td>\n",
       "      <td>75.81</td>\n",
       "      <td>1.3</td>\n",
       "      <td>0</td>\n",
       "      <td>0</td>\n",
       "      <td>0</td>\n",
       "      <td>0</td>\n",
       "      <td>148.34</td>\n",
       "    </tr>\n",
       "    <tr>\n",
       "      <th>3</th>\n",
       "      <td>0</td>\n",
       "      <td>0</td>\n",
       "      <td>0</td>\n",
       "      <td>5.6</td>\n",
       "      <td>0</td>\n",
       "      <td>79.06</td>\n",
       "      <td>1.3</td>\n",
       "      <td>0</td>\n",
       "      <td>0</td>\n",
       "      <td>0</td>\n",
       "      <td>0</td>\n",
       "      <td>134.93</td>\n",
       "    </tr>\n",
       "    <tr>\n",
       "      <th>4</th>\n",
       "      <td>0</td>\n",
       "      <td>0</td>\n",
       "      <td>0</td>\n",
       "      <td>5.0</td>\n",
       "      <td>0</td>\n",
       "      <td>82.37</td>\n",
       "      <td>1.4</td>\n",
       "      <td>0</td>\n",
       "      <td>0</td>\n",
       "      <td>0</td>\n",
       "      <td>0</td>\n",
       "      <td>121.67</td>\n",
       "    </tr>\n",
       "  </tbody>\n",
       "</table>\n",
       "</div>"
      ],
      "text/plain": [
       "   Clearsky DHI  GHI  cluster  Temperature  Clearsky DNI  Relative Humidity  \\\n",
       "0             0    0        0          5.0             0              63.52   \n",
       "1             0    0        0          4.7             0              65.31   \n",
       "2             0    0        0          6.2             0              75.81   \n",
       "3             0    0        0          5.6             0              79.06   \n",
       "4             0    0        0          5.0             0              82.37   \n",
       "\n",
       "   Wind Speed  DNI  Cloud Type  Clearsky GHI  DHI  Solar Zenith Angle  \n",
       "0         1.4    0           0             0    0              174.62  \n",
       "1         1.4    0           0             0    0              161.76  \n",
       "2         1.3    0           0             0    0              148.34  \n",
       "3         1.3    0           0             0    0              134.93  \n",
       "4         1.4    0           0             0    0              121.67  "
      ]
     },
     "execution_count": 2,
     "metadata": {},
     "output_type": "execute_result"
    }
   ],
   "source": [
    "df = pd.read_csv('cloudy_cluster.csv')\n",
    "df.head()"
   ]
  },
  {
   "cell_type": "code",
   "execution_count": 3,
   "metadata": {},
   "outputs": [],
   "source": [
    "df.dropna(inplace=True)"
   ]
  },
  {
   "cell_type": "code",
   "execution_count": 4,
   "metadata": {},
   "outputs": [],
   "source": [
    "df.drop([\"cluster\"],axis=1,inplace=True)"
   ]
  },
  {
   "cell_type": "code",
   "execution_count": 5,
   "metadata": {},
   "outputs": [
    {
     "data": {
      "text/html": [
       "<div>\n",
       "<style scoped>\n",
       "    .dataframe tbody tr th:only-of-type {\n",
       "        vertical-align: middle;\n",
       "    }\n",
       "\n",
       "    .dataframe tbody tr th {\n",
       "        vertical-align: top;\n",
       "    }\n",
       "\n",
       "    .dataframe thead th {\n",
       "        text-align: right;\n",
       "    }\n",
       "</style>\n",
       "<table border=\"1\" class=\"dataframe\">\n",
       "  <thead>\n",
       "    <tr style=\"text-align: right;\">\n",
       "      <th></th>\n",
       "      <th>Clearsky DHI</th>\n",
       "      <th>GHI</th>\n",
       "      <th>Temperature</th>\n",
       "      <th>Clearsky DNI</th>\n",
       "      <th>Relative Humidity</th>\n",
       "      <th>Wind Speed</th>\n",
       "      <th>DNI</th>\n",
       "      <th>Cloud Type</th>\n",
       "      <th>Clearsky GHI</th>\n",
       "      <th>DHI</th>\n",
       "      <th>Solar Zenith Angle</th>\n",
       "    </tr>\n",
       "  </thead>\n",
       "  <tbody>\n",
       "    <tr>\n",
       "      <th>0</th>\n",
       "      <td>0</td>\n",
       "      <td>0</td>\n",
       "      <td>5.0</td>\n",
       "      <td>0</td>\n",
       "      <td>63.52</td>\n",
       "      <td>1.4</td>\n",
       "      <td>0</td>\n",
       "      <td>0</td>\n",
       "      <td>0</td>\n",
       "      <td>0</td>\n",
       "      <td>174.62</td>\n",
       "    </tr>\n",
       "    <tr>\n",
       "      <th>1</th>\n",
       "      <td>0</td>\n",
       "      <td>0</td>\n",
       "      <td>4.7</td>\n",
       "      <td>0</td>\n",
       "      <td>65.31</td>\n",
       "      <td>1.4</td>\n",
       "      <td>0</td>\n",
       "      <td>0</td>\n",
       "      <td>0</td>\n",
       "      <td>0</td>\n",
       "      <td>161.76</td>\n",
       "    </tr>\n",
       "    <tr>\n",
       "      <th>2</th>\n",
       "      <td>0</td>\n",
       "      <td>0</td>\n",
       "      <td>6.2</td>\n",
       "      <td>0</td>\n",
       "      <td>75.81</td>\n",
       "      <td>1.3</td>\n",
       "      <td>0</td>\n",
       "      <td>0</td>\n",
       "      <td>0</td>\n",
       "      <td>0</td>\n",
       "      <td>148.34</td>\n",
       "    </tr>\n",
       "    <tr>\n",
       "      <th>3</th>\n",
       "      <td>0</td>\n",
       "      <td>0</td>\n",
       "      <td>5.6</td>\n",
       "      <td>0</td>\n",
       "      <td>79.06</td>\n",
       "      <td>1.3</td>\n",
       "      <td>0</td>\n",
       "      <td>0</td>\n",
       "      <td>0</td>\n",
       "      <td>0</td>\n",
       "      <td>134.93</td>\n",
       "    </tr>\n",
       "    <tr>\n",
       "      <th>4</th>\n",
       "      <td>0</td>\n",
       "      <td>0</td>\n",
       "      <td>5.0</td>\n",
       "      <td>0</td>\n",
       "      <td>82.37</td>\n",
       "      <td>1.4</td>\n",
       "      <td>0</td>\n",
       "      <td>0</td>\n",
       "      <td>0</td>\n",
       "      <td>0</td>\n",
       "      <td>121.67</td>\n",
       "    </tr>\n",
       "  </tbody>\n",
       "</table>\n",
       "</div>"
      ],
      "text/plain": [
       "   Clearsky DHI  GHI  Temperature  Clearsky DNI  Relative Humidity  \\\n",
       "0             0    0          5.0             0              63.52   \n",
       "1             0    0          4.7             0              65.31   \n",
       "2             0    0          6.2             0              75.81   \n",
       "3             0    0          5.6             0              79.06   \n",
       "4             0    0          5.0             0              82.37   \n",
       "\n",
       "   Wind Speed  DNI  Cloud Type  Clearsky GHI  DHI  Solar Zenith Angle  \n",
       "0         1.4    0           0             0    0              174.62  \n",
       "1         1.4    0           0             0    0              161.76  \n",
       "2         1.3    0           0             0    0              148.34  \n",
       "3         1.3    0           0             0    0              134.93  \n",
       "4         1.4    0           0             0    0              121.67  "
      ]
     },
     "execution_count": 5,
     "metadata": {},
     "output_type": "execute_result"
    }
   ],
   "source": [
    "df.head()"
   ]
  },
  {
   "cell_type": "code",
   "execution_count": 6,
   "metadata": {},
   "outputs": [
    {
     "data": {
      "text/html": [
       "<div>\n",
       "<style scoped>\n",
       "    .dataframe tbody tr th:only-of-type {\n",
       "        vertical-align: middle;\n",
       "    }\n",
       "\n",
       "    .dataframe tbody tr th {\n",
       "        vertical-align: top;\n",
       "    }\n",
       "\n",
       "    .dataframe thead th {\n",
       "        text-align: right;\n",
       "    }\n",
       "</style>\n",
       "<table border=\"1\" class=\"dataframe\">\n",
       "  <thead>\n",
       "    <tr style=\"text-align: right;\">\n",
       "      <th></th>\n",
       "      <th>Clearsky DHI</th>\n",
       "      <th>GHI</th>\n",
       "      <th>Temperature</th>\n",
       "      <th>Clearsky DNI</th>\n",
       "      <th>Relative Humidity</th>\n",
       "      <th>Wind Speed</th>\n",
       "      <th>DNI</th>\n",
       "      <th>Cloud Type</th>\n",
       "      <th>Clearsky GHI</th>\n",
       "      <th>DHI</th>\n",
       "      <th>Solar Zenith Angle</th>\n",
       "    </tr>\n",
       "  </thead>\n",
       "  <tbody>\n",
       "    <tr>\n",
       "      <th>count</th>\n",
       "      <td>5888.000000</td>\n",
       "      <td>5888.000000</td>\n",
       "      <td>5888.000000</td>\n",
       "      <td>5888.000000</td>\n",
       "      <td>5888.000000</td>\n",
       "      <td>5888.000000</td>\n",
       "      <td>5888.000000</td>\n",
       "      <td>5888.000000</td>\n",
       "      <td>5888.000000</td>\n",
       "      <td>5888.000000</td>\n",
       "      <td>5888.000000</td>\n",
       "    </tr>\n",
       "    <tr>\n",
       "      <th>mean</th>\n",
       "      <td>22.804008</td>\n",
       "      <td>42.034137</td>\n",
       "      <td>18.194124</td>\n",
       "      <td>82.918648</td>\n",
       "      <td>40.696788</td>\n",
       "      <td>2.417833</td>\n",
       "      <td>71.039402</td>\n",
       "      <td>0.744565</td>\n",
       "      <td>48.393682</td>\n",
       "      <td>21.630605</td>\n",
       "      <td>113.522045</td>\n",
       "    </tr>\n",
       "    <tr>\n",
       "      <th>std</th>\n",
       "      <td>49.770999</td>\n",
       "      <td>92.543872</td>\n",
       "      <td>8.220768</td>\n",
       "      <td>180.425605</td>\n",
       "      <td>19.206628</td>\n",
       "      <td>1.116259</td>\n",
       "      <td>164.585380</td>\n",
       "      <td>2.040437</td>\n",
       "      <td>109.771611</td>\n",
       "      <td>46.143014</td>\n",
       "      <td>29.116220</td>\n",
       "    </tr>\n",
       "    <tr>\n",
       "      <th>min</th>\n",
       "      <td>0.000000</td>\n",
       "      <td>0.000000</td>\n",
       "      <td>-0.800000</td>\n",
       "      <td>0.000000</td>\n",
       "      <td>6.100000</td>\n",
       "      <td>0.200000</td>\n",
       "      <td>0.000000</td>\n",
       "      <td>0.000000</td>\n",
       "      <td>0.000000</td>\n",
       "      <td>0.000000</td>\n",
       "      <td>19.630000</td>\n",
       "    </tr>\n",
       "    <tr>\n",
       "      <th>25%</th>\n",
       "      <td>0.000000</td>\n",
       "      <td>0.000000</td>\n",
       "      <td>11.075000</td>\n",
       "      <td>0.000000</td>\n",
       "      <td>26.630000</td>\n",
       "      <td>1.600000</td>\n",
       "      <td>0.000000</td>\n",
       "      <td>0.000000</td>\n",
       "      <td>0.000000</td>\n",
       "      <td>0.000000</td>\n",
       "      <td>88.857500</td>\n",
       "    </tr>\n",
       "    <tr>\n",
       "      <th>50%</th>\n",
       "      <td>0.000000</td>\n",
       "      <td>0.000000</td>\n",
       "      <td>18.700000</td>\n",
       "      <td>0.000000</td>\n",
       "      <td>36.660000</td>\n",
       "      <td>2.200000</td>\n",
       "      <td>0.000000</td>\n",
       "      <td>0.000000</td>\n",
       "      <td>0.000000</td>\n",
       "      <td>0.000000</td>\n",
       "      <td>114.565000</td>\n",
       "    </tr>\n",
       "    <tr>\n",
       "      <th>75%</th>\n",
       "      <td>1.250000</td>\n",
       "      <td>1.250000</td>\n",
       "      <td>24.800000</td>\n",
       "      <td>0.000000</td>\n",
       "      <td>51.410000</td>\n",
       "      <td>3.100000</td>\n",
       "      <td>0.000000</td>\n",
       "      <td>0.000000</td>\n",
       "      <td>1.250000</td>\n",
       "      <td>1.250000</td>\n",
       "      <td>134.842500</td>\n",
       "    </tr>\n",
       "    <tr>\n",
       "      <th>max</th>\n",
       "      <td>480.000000</td>\n",
       "      <td>390.000000</td>\n",
       "      <td>39.400000</td>\n",
       "      <td>912.000000</td>\n",
       "      <td>100.000000</td>\n",
       "      <td>7.800000</td>\n",
       "      <td>802.000000</td>\n",
       "      <td>8.000000</td>\n",
       "      <td>901.000000</td>\n",
       "      <td>313.000000</td>\n",
       "      <td>174.720000</td>\n",
       "    </tr>\n",
       "  </tbody>\n",
       "</table>\n",
       "</div>"
      ],
      "text/plain": [
       "       Clearsky DHI          GHI  Temperature  Clearsky DNI  \\\n",
       "count   5888.000000  5888.000000  5888.000000   5888.000000   \n",
       "mean      22.804008    42.034137    18.194124     82.918648   \n",
       "std       49.770999    92.543872     8.220768    180.425605   \n",
       "min        0.000000     0.000000    -0.800000      0.000000   \n",
       "25%        0.000000     0.000000    11.075000      0.000000   \n",
       "50%        0.000000     0.000000    18.700000      0.000000   \n",
       "75%        1.250000     1.250000    24.800000      0.000000   \n",
       "max      480.000000   390.000000    39.400000    912.000000   \n",
       "\n",
       "       Relative Humidity   Wind Speed          DNI   Cloud Type  Clearsky GHI  \\\n",
       "count        5888.000000  5888.000000  5888.000000  5888.000000   5888.000000   \n",
       "mean           40.696788     2.417833    71.039402     0.744565     48.393682   \n",
       "std            19.206628     1.116259   164.585380     2.040437    109.771611   \n",
       "min             6.100000     0.200000     0.000000     0.000000      0.000000   \n",
       "25%            26.630000     1.600000     0.000000     0.000000      0.000000   \n",
       "50%            36.660000     2.200000     0.000000     0.000000      0.000000   \n",
       "75%            51.410000     3.100000     0.000000     0.000000      1.250000   \n",
       "max           100.000000     7.800000   802.000000     8.000000    901.000000   \n",
       "\n",
       "               DHI  Solar Zenith Angle  \n",
       "count  5888.000000         5888.000000  \n",
       "mean     21.630605          113.522045  \n",
       "std      46.143014           29.116220  \n",
       "min       0.000000           19.630000  \n",
       "25%       0.000000           88.857500  \n",
       "50%       0.000000          114.565000  \n",
       "75%       1.250000          134.842500  \n",
       "max     313.000000          174.720000  "
      ]
     },
     "execution_count": 6,
     "metadata": {},
     "output_type": "execute_result"
    }
   ],
   "source": [
    "df.describe()"
   ]
  },
  {
   "cell_type": "code",
   "execution_count": 7,
   "metadata": {},
   "outputs": [],
   "source": [
    "s1= MinMaxScaler(feature_range=(-1,1))\n",
    "Xs= s1.fit_transform(df)"
   ]
  },
  {
   "cell_type": "code",
   "execution_count": 8,
   "metadata": {},
   "outputs": [],
   "source": [
    "\n",
    "s2=MinMaxScaler(feature_range=(-1,1))\n",
    "Ys= s2.fit_transform(df[['GHI']])"
   ]
  },
  {
   "cell_type": "code",
   "execution_count": 9,
   "metadata": {},
   "outputs": [
    {
     "data": {
      "text/plain": [
       "(5888, 11)"
      ]
     },
     "execution_count": 9,
     "metadata": {},
     "output_type": "execute_result"
    }
   ],
   "source": [
    "Xs.shape"
   ]
  },
  {
   "cell_type": "code",
   "execution_count": 10,
   "metadata": {},
   "outputs": [],
   "source": [
    "#Xs.reshape(1,662,6)"
   ]
  },
  {
   "cell_type": "code",
   "execution_count": 11,
   "metadata": {},
   "outputs": [
    {
     "data": {
      "text/plain": [
       "(5888, 1)"
      ]
     },
     "execution_count": 11,
     "metadata": {},
     "output_type": "execute_result"
    }
   ],
   "source": [
    "Ys.shape"
   ]
  },
  {
   "cell_type": "code",
   "execution_count": 12,
   "metadata": {},
   "outputs": [],
   "source": [
    "window= 5\n",
    "X=[]\n",
    "Y=[]\n",
    "for i in range(window,len(Xs)):\n",
    "    X.append(Xs[i-window:i,:])\n",
    "    Y.append(Ys[i])"
   ]
  },
  {
   "cell_type": "code",
   "execution_count": 13,
   "metadata": {},
   "outputs": [],
   "source": [
    "X,Y = np.array(X), np.array(Y)"
   ]
  },
  {
   "cell_type": "code",
   "execution_count": 14,
   "metadata": {},
   "outputs": [
    {
     "data": {
      "text/plain": [
       "((4711, 5, 11), (4711, 1), (1172, 5, 11), (1172, 1))"
      ]
     },
     "execution_count": 14,
     "metadata": {},
     "output_type": "execute_result"
    }
   ],
   "source": [
    "X_train1, y_train1 = X[:4711], Y[:4711]\n",
    "#X_val1, y_val1 = X[3530:3971], Y[3530:3971]\n",
    "X_test1, y_test1 = X[4711:], Y[4711:]\n",
    "X_train1.shape, y_train1.shape,X_test1.shape, y_test1.shape\n"
   ]
  },
  {
   "cell_type": "code",
   "execution_count": 15,
   "metadata": {},
   "outputs": [],
   "source": [
    "from tensorflow.keras.models import Sequential\n",
    "from tensorflow.keras.layers import *\n",
    "from tensorflow.keras.callbacks import ModelCheckpoint\n",
    "from tensorflow.keras.losses import MeanSquaredError\n",
    "from tensorflow.keras.metrics import RootMeanSquaredError\n",
    "from tensorflow.keras.optimizers import RMSprop\n",
    "from tensorflow.keras.optimizers import Adam\n",
    "import tensorflow as tf \n",
    "model= Sequential()\n",
    "#model.add(LSTM(units=50,return_sequences=True,input_shape=(X.shape[1],X.shape[2])))  \n",
    "#model.add(Dropout (0.2))\n",
    "#model.add(LSTM(units=50,return_sequences=True))\n",
    "\n",
    "#model.add(Dropout (0.2))\n",
    "#model.add(LSTM(units=50))\n",
    "#model.add(Dropout (0.2))\n",
    "#model.add(Dense(units=1))\n",
    "#model.compile(optimizer= 'adam',loss='mean_squared_error',metrics=['accuracy'])\n",
    "\n",
    "# Adding the first LSTM layer and some Dropout regularisation\n",
    "model.add(Bidirectional(LSTM(units = 64, activation='relu', return_sequences=True,input_shape=(X_train1.shape[1], X_train1.shape[2]))))\n",
    "model.add(Dropout(0.1))\n",
    "model.add(Bidirectional(LSTM(units = 128, activation='relu',return_sequences=True )))\n",
    "model.add(Dropout(0.1))\n",
    "model.add(Bidirectional(LSTM(units = 32, activation='relu',return_sequences=True )))\n",
    "model.add(Dropout(0.1))\n",
    "model.add(Bidirectional(LSTM(units = 32, activation='relu')))\n",
    "model.add(Dropout(0.1))\n",
    "\n",
    "# Adding the output layer\n",
    "model.add(Dense(units = 10))    \n",
    "model.add(Dense(units = 1))     \n",
    "\n",
    "model.compile(loss=MeanSquaredError(), optimizer=Adam(learning_rate=0.01), metrics=[RootMeanSquaredError()])"
   ]
  },
  {
   "cell_type": "code",
   "execution_count": 16,
   "metadata": {},
   "outputs": [
    {
     "name": "stdout",
     "output_type": "stream",
     "text": [
      "Epoch 1/20\n",
      "148/148 [==============================] - 18s 29ms/step - loss: 0.1852 - root_mean_squared_error: 0.4304\n",
      "Epoch 2/20\n",
      "148/148 [==============================] - 5s 32ms/step - loss: 0.0455 - root_mean_squared_error: 0.2134\n",
      "Epoch 3/20\n",
      "148/148 [==============================] - 5s 34ms/step - loss: 0.0329 - root_mean_squared_error: 0.1814\n",
      "Epoch 4/20\n",
      "148/148 [==============================] - 5s 35ms/step - loss: 0.0272 - root_mean_squared_error: 0.1649\n",
      "Epoch 5/20\n",
      "148/148 [==============================] - 5s 37ms/step - loss: 0.0248 - root_mean_squared_error: 0.1575\n",
      "Epoch 6/20\n",
      "148/148 [==============================] - 7s 45ms/step - loss: 0.0244 - root_mean_squared_error: 0.1561\n",
      "Epoch 7/20\n",
      "148/148 [==============================] - 5s 35ms/step - loss: 0.0223 - root_mean_squared_error: 0.1492\n",
      "Epoch 8/20\n",
      "148/148 [==============================] - 6s 39ms/step - loss: 0.0226 - root_mean_squared_error: 0.1503\n",
      "Epoch 9/20\n",
      "148/148 [==============================] - 5s 37ms/step - loss: 0.0217 - root_mean_squared_error: 0.1474\n",
      "Epoch 10/20\n",
      "148/148 [==============================] - 5s 33ms/step - loss: 0.0233 - root_mean_squared_error: 0.1528\n",
      "Epoch 11/20\n",
      "148/148 [==============================] - 5s 34ms/step - loss: 0.0215 - root_mean_squared_error: 0.1465\n",
      "Epoch 12/20\n",
      "148/148 [==============================] - 5s 33ms/step - loss: 0.0204 - root_mean_squared_error: 0.1427\n",
      "Epoch 13/20\n",
      "148/148 [==============================] - 5s 32ms/step - loss: 0.0201 - root_mean_squared_error: 0.1416\n",
      "Epoch 14/20\n",
      "148/148 [==============================] - 5s 31ms/step - loss: 0.0196 - root_mean_squared_error: 0.1400\n",
      "Epoch 15/20\n",
      "148/148 [==============================] - 5s 32ms/step - loss: 0.0198 - root_mean_squared_error: 0.1408\n",
      "Epoch 16/20\n",
      "148/148 [==============================] - 5s 35ms/step - loss: 0.0187 - root_mean_squared_error: 0.1366\n",
      "Epoch 17/20\n",
      "148/148 [==============================] - 5s 32ms/step - loss: 0.0214 - root_mean_squared_error: 0.1464\n",
      "Epoch 18/20\n",
      "148/148 [==============================] - 5s 33ms/step - loss: 0.0222 - root_mean_squared_error: 0.1491\n",
      "Epoch 19/20\n",
      "148/148 [==============================] - 5s 32ms/step - loss: 0.0209 - root_mean_squared_error: 0.1446\n",
      "Epoch 20/20\n",
      "148/148 [==============================] - 5s 34ms/step - loss: 0.0177 - root_mean_squared_error: 0.1331\n"
     ]
    }
   ],
   "source": [
    "#from keras.callbacks import EarlyStopping\n",
    "#earlyStop=EarlyStopping(monitor=\"val_loss\",verbose=2,mode='min',patience=50)\n",
    "import time \n",
    "start= time.time()\n",
    "history=model.fit(X_train1,y_train1,epochs=20)\n",
    "end= time.time()\n",
    "continental= end-start"
   ]
  },
  {
   "cell_type": "code",
   "execution_count": 17,
   "metadata": {},
   "outputs": [
    {
     "data": {
      "text/plain": [
       "[<matplotlib.lines.Line2D at 0x228ea6cef20>]"
      ]
     },
     "execution_count": 17,
     "metadata": {},
     "output_type": "execute_result"
    },
    {
     "data": {
      "image/png": "[encoded data removed]",
      "text/plain": [
       "<Figure size 432x288 with 1 Axes>"
      ]
     },
     "metadata": {
      "needs_background": "light"
     },
     "output_type": "display_data"
    }
   ],
   "source": [
    "loss_per_epoch = model.history.history['loss']\n",
    "plt.plot(range(len(loss_per_epoch)),loss_per_epoch)"
   ]
  },
  {
   "cell_type": "code",
   "execution_count": 18,
   "metadata": {},
   "outputs": [
    {
     "name": "stdout",
     "output_type": "stream",
     "text": [
      "37/37 [==============================] - 2s 13ms/step\n",
      "inference time: 2.4051876068115234\n",
      "[[ 0.5124632 ]\n",
      " [-0.19116944]\n",
      " [-1.0051918 ]\n",
      " ...\n",
      " [-1.0142624 ]\n",
      " [-1.0152478 ]\n",
      " [-1.016446  ]]\n"
     ]
    }
   ],
   "source": [
    "import time\n",
    "start=time.time()\n",
    "Yp= model.predict(X_test1)\n",
    "end=time.time()\n",
    "continental=end-start\n",
    "print(\"inference time:\",continental)\n",
    "print(Yp)"
   ]
  },
  {
   "cell_type": "code",
   "execution_count": 19,
   "metadata": {},
   "outputs": [
    {
     "data": {
      "text/plain": [
       "(1172, 1)"
      ]
     },
     "execution_count": 19,
     "metadata": {},
     "output_type": "execute_result"
    }
   ],
   "source": [
    "Yp.shape"
   ]
  },
  {
   "cell_type": "code",
   "execution_count": 20,
   "metadata": {},
   "outputs": [],
   "source": [
    "pred= s2.inverse_transform(Yp)"
   ]
  },
  {
   "cell_type": "code",
   "execution_count": 21,
   "metadata": {},
   "outputs": [],
   "source": [
    "Actual= s2.inverse_transform(y_test1)"
   ]
  },
  {
   "cell_type": "code",
   "execution_count": 22,
   "metadata": {},
   "outputs": [],
   "source": [
    "x= pred\n",
    "z= Actual"
   ]
  },
  {
   "cell_type": "code",
   "execution_count": 23,
   "metadata": {},
   "outputs": [
    {
     "name": "stdout",
     "output_type": "stream",
     "text": [
      "Root Mean Square Error: 24.19681603766372\n",
      "Mean Square Error: 585.4859063605402\n",
      "Mean Absolute Error: 11.415981629704453\n"
     ]
    }
   ],
   "source": [
    "from sklearn.metrics import mean_squared_error\n",
    "import math\n",
    "MSE = mean_squared_error(z,x)\n",
    "RMSE = math.sqrt(MSE)\n",
    "from sklearn.metrics import mean_absolute_error\n",
    "MAE=mean_absolute_error(z,x)\n",
    "print(\"Root Mean Square Error:\",RMSE)\n",
    "print(\"Mean Square Error:\", MSE)\n",
    "print(\"Mean Absolute Error:\",MAE)\n"
   ]
  },
  {
   "cell_type": "code",
   "execution_count": 24,
   "metadata": {},
   "outputs": [
    {
     "data": {
      "text/plain": [
       "(324.58514, -4.7291746, 40.957924)"
      ]
     },
     "execution_count": 24,
     "metadata": {},
     "output_type": "execute_result"
    }
   ],
   "source": [
    "max= x.max()\n",
    "min= x.min()\n",
    "mean= x.mean()\n",
    "max,min,mean"
   ]
  },
  {
   "cell_type": "code",
   "execution_count": 25,
   "metadata": {},
   "outputs": [
    {
     "data": {
      "text/plain": [
       "7.34763530034333"
      ]
     },
     "execution_count": 25,
     "metadata": {},
     "output_type": "execute_result"
    }
   ],
   "source": [
    "NRMSE= (RMSE/(max-min))*100\n",
    "NRMSE"
   ]
  },
  {
   "cell_type": "code",
   "execution_count": 26,
   "metadata": {},
   "outputs": [],
   "source": [
    "Calculated =pd.DataFrame(x, columns = ['Prediction'])\n",
    "Actual = pd.DataFrame(z, columns = ['Actual'])\n"
   ]
  },
  {
   "cell_type": "code",
   "execution_count": 27,
   "metadata": {},
   "outputs": [],
   "source": [
    "Calculated.to_csv(r\"E:\\CatBoost_1\\Johannesburg\\LSTM\\cloudy_hours\\prediction.csv\")"
   ]
  },
  {
   "cell_type": "code",
   "execution_count": 28,
   "metadata": {},
   "outputs": [],
   "source": [
    "Actual.to_csv(r\"E:\\CatBoost_1\\Johannesburg\\LSTM\\cloudy_hours\\Actual.csv\")"
   ]
  }
 ],
 "metadata": {
  "kernelspec": {
   "display_name": "Python 3.10.6 64-bit",
   "language": "python",
   "name": "python3"
  },
  "language_info": {
   "codemirror_mode": {
    "name": "ipython",
    "version": 3
   },
   "file_extension": ".py",
   "mimetype": "text/x-python",
   "name": "python",
   "nbconvert_exporter": "python",
   "pygments_lexer": "ipython3",
   "version": "3.10.9"
  },
  "orig_nbformat": 4,
  "vscode": {
   "interpreter": {
    "hash": "ac4210170004fc925580c073d42b7c18005567bca7a1d143f4e4d5a93e6c63c2"
   }
  }
 },
 "nbformat": 4,
 "nbformat_minor": 2
}
