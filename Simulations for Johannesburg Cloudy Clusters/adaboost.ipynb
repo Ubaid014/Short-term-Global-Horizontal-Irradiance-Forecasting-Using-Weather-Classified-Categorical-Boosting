{
 "cells": [
  {
   "cell_type": "code",
   "execution_count": 1,
   "metadata": {},
   "outputs": [
    {
     "name": "stderr",
     "output_type": "stream",
     "text": [
      "c:\\Users\\sunrise\\AppData\\Local\\Programs\\Python\\Python310\\lib\\site-packages\\tqdm\\auto.py:22: TqdmWarning: IProgress not found. Please update jupyter and ipywidgets. See https://ipywidgets.readthedocs.io/en/stable/user_install.html\n",
      "  from .autonotebook import tqdm as notebook_tqdm\n"
     ]
    }
   ],
   "source": [
    "\n",
    "import numpy as np\n",
    "import pandas as pd\n",
    "import seaborn as sns\n",
    "import shap\n",
    "from sklearn.model_selection import train_test_split\n",
    "from sklearn.inspection import permutation_importance\n",
    "from sklearn.preprocessing import MinMaxScaler\n",
    "import tqdm as nootbook_tqdm\n",
    "from sklearn.ensemble import AdaBoostRegressor\n"
   ]
  },
  {
   "cell_type": "code",
   "execution_count": 2,
   "metadata": {},
   "outputs": [
    {
     "data": {
      "text/html": [
       "<div>\n",
       "<style scoped>\n",
       "    .dataframe tbody tr th:only-of-type {\n",
       "        vertical-align: middle;\n",
       "    }\n",
       "\n",
       "    .dataframe tbody tr th {\n",
       "        vertical-align: top;\n",
       "    }\n",
       "\n",
       "    .dataframe thead th {\n",
       "        text-align: right;\n",
       "    }\n",
       "</style>\n",
       "<table border=\"1\" class=\"dataframe\">\n",
       "  <thead>\n",
       "    <tr style=\"text-align: right;\">\n",
       "      <th></th>\n",
       "      <th>Clearsky DHI</th>\n",
       "      <th>GHI</th>\n",
       "      <th>cluster</th>\n",
       "      <th>Temperature</th>\n",
       "      <th>Clearsky DNI</th>\n",
       "      <th>Relative Humidity</th>\n",
       "      <th>Wind Speed</th>\n",
       "      <th>DNI</th>\n",
       "      <th>Cloud Type</th>\n",
       "      <th>Clearsky GHI</th>\n",
       "      <th>DHI</th>\n",
       "      <th>Solar Zenith Angle</th>\n",
       "    </tr>\n",
       "  </thead>\n",
       "  <tbody>\n",
       "    <tr>\n",
       "      <th>0</th>\n",
       "      <td>0</td>\n",
       "      <td>0</td>\n",
       "      <td>0</td>\n",
       "      <td>5.0</td>\n",
       "      <td>0</td>\n",
       "      <td>63.52</td>\n",
       "      <td>1.4</td>\n",
       "      <td>0</td>\n",
       "      <td>0</td>\n",
       "      <td>0</td>\n",
       "      <td>0</td>\n",
       "      <td>174.62</td>\n",
       "    </tr>\n",
       "    <tr>\n",
       "      <th>1</th>\n",
       "      <td>0</td>\n",
       "      <td>0</td>\n",
       "      <td>0</td>\n",
       "      <td>4.7</td>\n",
       "      <td>0</td>\n",
       "      <td>65.31</td>\n",
       "      <td>1.4</td>\n",
       "      <td>0</td>\n",
       "      <td>0</td>\n",
       "      <td>0</td>\n",
       "      <td>0</td>\n",
       "      <td>161.76</td>\n",
       "    </tr>\n",
       "    <tr>\n",
       "      <th>2</th>\n",
       "      <td>0</td>\n",
       "      <td>0</td>\n",
       "      <td>0</td>\n",
       "      <td>6.2</td>\n",
       "      <td>0</td>\n",
       "      <td>75.81</td>\n",
       "      <td>1.3</td>\n",
       "      <td>0</td>\n",
       "      <td>0</td>\n",
       "      <td>0</td>\n",
       "      <td>0</td>\n",
       "      <td>148.34</td>\n",
       "    </tr>\n",
       "    <tr>\n",
       "      <th>3</th>\n",
       "      <td>0</td>\n",
       "      <td>0</td>\n",
       "      <td>0</td>\n",
       "      <td>5.6</td>\n",
       "      <td>0</td>\n",
       "      <td>79.06</td>\n",
       "      <td>1.3</td>\n",
       "      <td>0</td>\n",
       "      <td>0</td>\n",
       "      <td>0</td>\n",
       "      <td>0</td>\n",
       "      <td>134.93</td>\n",
       "    </tr>\n",
       "    <tr>\n",
       "      <th>4</th>\n",
       "      <td>0</td>\n",
       "      <td>0</td>\n",
       "      <td>0</td>\n",
       "      <td>5.0</td>\n",
       "      <td>0</td>\n",
       "      <td>82.37</td>\n",
       "      <td>1.4</td>\n",
       "      <td>0</td>\n",
       "      <td>0</td>\n",
       "      <td>0</td>\n",
       "      <td>0</td>\n",
       "      <td>121.67</td>\n",
       "    </tr>\n",
       "  </tbody>\n",
       "</table>\n",
       "</div>"
      ],
      "text/plain": [
       "   Clearsky DHI  GHI  cluster  Temperature  Clearsky DNI  Relative Humidity  \\\n",
       "0             0    0        0          5.0             0              63.52   \n",
       "1             0    0        0          4.7             0              65.31   \n",
       "2             0    0        0          6.2             0              75.81   \n",
       "3             0    0        0          5.6             0              79.06   \n",
       "4             0    0        0          5.0             0              82.37   \n",
       "\n",
       "   Wind Speed  DNI  Cloud Type  Clearsky GHI  DHI  Solar Zenith Angle  \n",
       "0         1.4    0           0             0    0              174.62  \n",
       "1         1.4    0           0             0    0              161.76  \n",
       "2         1.3    0           0             0    0              148.34  \n",
       "3         1.3    0           0             0    0              134.93  \n",
       "4         1.4    0           0             0    0              121.67  "
      ]
     },
     "execution_count": 2,
     "metadata": {},
     "output_type": "execute_result"
    }
   ],
   "source": [
    "df=pd.read_csv(\"cloudy_cluster.csv\")\n",
    "df.head()"
   ]
  },
  {
   "cell_type": "code",
   "execution_count": 3,
   "metadata": {},
   "outputs": [
    {
     "data": {
      "text/plain": [
       "(5888, 12)"
      ]
     },
     "execution_count": 3,
     "metadata": {},
     "output_type": "execute_result"
    }
   ],
   "source": [
    "df.shape"
   ]
  },
  {
   "cell_type": "code",
   "execution_count": 4,
   "metadata": {},
   "outputs": [
    {
     "data": {
      "text/plain": [
       "Clearsky DHI          0\n",
       "GHI                   0\n",
       "cluster               0\n",
       "Temperature           0\n",
       "Clearsky DNI          0\n",
       "Relative Humidity     0\n",
       "Wind Speed            0\n",
       "DNI                   0\n",
       "Cloud Type            0\n",
       "Clearsky GHI          0\n",
       "DHI                   0\n",
       "Solar Zenith Angle    0\n",
       "dtype: int64"
      ]
     },
     "execution_count": 4,
     "metadata": {},
     "output_type": "execute_result"
    }
   ],
   "source": [
    "df.isnull().sum()"
   ]
  },
  {
   "cell_type": "code",
   "execution_count": 5,
   "metadata": {},
   "outputs": [],
   "source": [
    "df.drop(['cluster'], axis = 1, inplace = True) "
   ]
  },
  {
   "cell_type": "code",
   "execution_count": 6,
   "metadata": {},
   "outputs": [
    {
     "data": {
      "text/html": [
       "<div>\n",
       "<style scoped>\n",
       "    .dataframe tbody tr th:only-of-type {\n",
       "        vertical-align: middle;\n",
       "    }\n",
       "\n",
       "    .dataframe tbody tr th {\n",
       "        vertical-align: top;\n",
       "    }\n",
       "\n",
       "    .dataframe thead th {\n",
       "        text-align: right;\n",
       "    }\n",
       "</style>\n",
       "<table border=\"1\" class=\"dataframe\">\n",
       "  <thead>\n",
       "    <tr style=\"text-align: right;\">\n",
       "      <th></th>\n",
       "      <th>Clearsky DHI</th>\n",
       "      <th>GHI</th>\n",
       "      <th>Temperature</th>\n",
       "      <th>Clearsky DNI</th>\n",
       "      <th>Relative Humidity</th>\n",
       "      <th>Wind Speed</th>\n",
       "      <th>DNI</th>\n",
       "      <th>Cloud Type</th>\n",
       "      <th>Clearsky GHI</th>\n",
       "      <th>DHI</th>\n",
       "      <th>Solar Zenith Angle</th>\n",
       "    </tr>\n",
       "  </thead>\n",
       "  <tbody>\n",
       "    <tr>\n",
       "      <th>count</th>\n",
       "      <td>5888.000000</td>\n",
       "      <td>5888.000000</td>\n",
       "      <td>5888.000000</td>\n",
       "      <td>5888.000000</td>\n",
       "      <td>5888.000000</td>\n",
       "      <td>5888.000000</td>\n",
       "      <td>5888.000000</td>\n",
       "      <td>5888.000000</td>\n",
       "      <td>5888.000000</td>\n",
       "      <td>5888.000000</td>\n",
       "      <td>5888.000000</td>\n",
       "    </tr>\n",
       "    <tr>\n",
       "      <th>mean</th>\n",
       "      <td>22.804008</td>\n",
       "      <td>42.034137</td>\n",
       "      <td>18.194124</td>\n",
       "      <td>82.918648</td>\n",
       "      <td>40.696788</td>\n",
       "      <td>2.417833</td>\n",
       "      <td>71.039402</td>\n",
       "      <td>0.744565</td>\n",
       "      <td>48.393682</td>\n",
       "      <td>21.630605</td>\n",
       "      <td>113.522045</td>\n",
       "    </tr>\n",
       "    <tr>\n",
       "      <th>std</th>\n",
       "      <td>49.770999</td>\n",
       "      <td>92.543872</td>\n",
       "      <td>8.220768</td>\n",
       "      <td>180.425605</td>\n",
       "      <td>19.206628</td>\n",
       "      <td>1.116259</td>\n",
       "      <td>164.585380</td>\n",
       "      <td>2.040437</td>\n",
       "      <td>109.771611</td>\n",
       "      <td>46.143014</td>\n",
       "      <td>29.116220</td>\n",
       "    </tr>\n",
       "    <tr>\n",
       "      <th>min</th>\n",
       "      <td>0.000000</td>\n",
       "      <td>0.000000</td>\n",
       "      <td>-0.800000</td>\n",
       "      <td>0.000000</td>\n",
       "      <td>6.100000</td>\n",
       "      <td>0.200000</td>\n",
       "      <td>0.000000</td>\n",
       "      <td>0.000000</td>\n",
       "      <td>0.000000</td>\n",
       "      <td>0.000000</td>\n",
       "      <td>19.630000</td>\n",
       "    </tr>\n",
       "    <tr>\n",
       "      <th>25%</th>\n",
       "      <td>0.000000</td>\n",
       "      <td>0.000000</td>\n",
       "      <td>11.075000</td>\n",
       "      <td>0.000000</td>\n",
       "      <td>26.630000</td>\n",
       "      <td>1.600000</td>\n",
       "      <td>0.000000</td>\n",
       "      <td>0.000000</td>\n",
       "      <td>0.000000</td>\n",
       "      <td>0.000000</td>\n",
       "      <td>88.857500</td>\n",
       "    </tr>\n",
       "    <tr>\n",
       "      <th>50%</th>\n",
       "      <td>0.000000</td>\n",
       "      <td>0.000000</td>\n",
       "      <td>18.700000</td>\n",
       "      <td>0.000000</td>\n",
       "      <td>36.660000</td>\n",
       "      <td>2.200000</td>\n",
       "      <td>0.000000</td>\n",
       "      <td>0.000000</td>\n",
       "      <td>0.000000</td>\n",
       "      <td>0.000000</td>\n",
       "      <td>114.565000</td>\n",
       "    </tr>\n",
       "    <tr>\n",
       "      <th>75%</th>\n",
       "      <td>1.250000</td>\n",
       "      <td>1.250000</td>\n",
       "      <td>24.800000</td>\n",
       "      <td>0.000000</td>\n",
       "      <td>51.410000</td>\n",
       "      <td>3.100000</td>\n",
       "      <td>0.000000</td>\n",
       "      <td>0.000000</td>\n",
       "      <td>1.250000</td>\n",
       "      <td>1.250000</td>\n",
       "      <td>134.842500</td>\n",
       "    </tr>\n",
       "    <tr>\n",
       "      <th>max</th>\n",
       "      <td>480.000000</td>\n",
       "      <td>390.000000</td>\n",
       "      <td>39.400000</td>\n",
       "      <td>912.000000</td>\n",
       "      <td>100.000000</td>\n",
       "      <td>7.800000</td>\n",
       "      <td>802.000000</td>\n",
       "      <td>8.000000</td>\n",
       "      <td>901.000000</td>\n",
       "      <td>313.000000</td>\n",
       "      <td>174.720000</td>\n",
       "    </tr>\n",
       "  </tbody>\n",
       "</table>\n",
       "</div>"
      ],
      "text/plain": [
       "       Clearsky DHI          GHI  Temperature  Clearsky DNI  \\\n",
       "count   5888.000000  5888.000000  5888.000000   5888.000000   \n",
       "mean      22.804008    42.034137    18.194124     82.918648   \n",
       "std       49.770999    92.543872     8.220768    180.425605   \n",
       "min        0.000000     0.000000    -0.800000      0.000000   \n",
       "25%        0.000000     0.000000    11.075000      0.000000   \n",
       "50%        0.000000     0.000000    18.700000      0.000000   \n",
       "75%        1.250000     1.250000    24.800000      0.000000   \n",
       "max      480.000000   390.000000    39.400000    912.000000   \n",
       "\n",
       "       Relative Humidity   Wind Speed          DNI   Cloud Type  Clearsky GHI  \\\n",
       "count        5888.000000  5888.000000  5888.000000  5888.000000   5888.000000   \n",
       "mean           40.696788     2.417833    71.039402     0.744565     48.393682   \n",
       "std            19.206628     1.116259   164.585380     2.040437    109.771611   \n",
       "min             6.100000     0.200000     0.000000     0.000000      0.000000   \n",
       "25%            26.630000     1.600000     0.000000     0.000000      0.000000   \n",
       "50%            36.660000     2.200000     0.000000     0.000000      0.000000   \n",
       "75%            51.410000     3.100000     0.000000     0.000000      1.250000   \n",
       "max           100.000000     7.800000   802.000000     8.000000    901.000000   \n",
       "\n",
       "               DHI  Solar Zenith Angle  \n",
       "count  5888.000000         5888.000000  \n",
       "mean     21.630605          113.522045  \n",
       "std      46.143014           29.116220  \n",
       "min       0.000000           19.630000  \n",
       "25%       0.000000           88.857500  \n",
       "50%       0.000000          114.565000  \n",
       "75%       1.250000          134.842500  \n",
       "max     313.000000          174.720000  "
      ]
     },
     "execution_count": 6,
     "metadata": {},
     "output_type": "execute_result"
    }
   ],
   "source": [
    "df.describe()"
   ]
  },
  {
   "cell_type": "code",
   "execution_count": 7,
   "metadata": {},
   "outputs": [],
   "source": [
    "s1= MinMaxScaler(feature_range=(0,1))\n",
    "X= s1.fit_transform(df)"
   ]
  },
  {
   "cell_type": "code",
   "execution_count": 8,
   "metadata": {},
   "outputs": [],
   "source": [
    "s2=MinMaxScaler(feature_range=(0,1))\n",
    "y= s2.fit_transform(df[['GHI']])"
   ]
  },
  {
   "cell_type": "code",
   "execution_count": 9,
   "metadata": {},
   "outputs": [],
   "source": [
    "X_train, X_test, y_train, y_test = train_test_split(X, y, test_size = 0.2, random_state=42,shuffle=False)"
   ]
  },
  {
   "cell_type": "code",
   "execution_count": 10,
   "metadata": {},
   "outputs": [
    {
     "name": "stderr",
     "output_type": "stream",
     "text": [
      "A column-vector y was passed when a 1d array was expected. Please change the shape of y to (n_samples, ), for example using ravel().\n"
     ]
    },
    {
     "name": "stdout",
     "output_type": "stream",
     "text": [
      "AdaBoostRegressor(learning_rate=0.1, n_estimators=100)\n"
     ]
    }
   ],
   "source": [
    "model = AdaBoostRegressor(n_estimators=100,learning_rate=0.1)\n",
    "model.fit(X_train, y_train)\n",
    "print(model)"
   ]
  },
  {
   "cell_type": "code",
   "execution_count": 11,
   "metadata": {},
   "outputs": [],
   "source": [
    "import time\n",
    "start= time.time()\n",
    "prediction = model.predict(X_test)\n",
    "end= time.time()\n",
    "continential= end-start"
   ]
  },
  {
   "cell_type": "code",
   "execution_count": 12,
   "metadata": {},
   "outputs": [
    {
     "data": {
      "text/plain": [
       "(1178,)"
      ]
     },
     "execution_count": 12,
     "metadata": {},
     "output_type": "execute_result"
    }
   ],
   "source": [
    "prediction.shape"
   ]
  },
  {
   "cell_type": "code",
   "execution_count": 13,
   "metadata": {},
   "outputs": [],
   "source": [
    "prediction = prediction.reshape(prediction.shape[0], 1)"
   ]
  },
  {
   "cell_type": "code",
   "execution_count": 14,
   "metadata": {},
   "outputs": [
    {
     "data": {
      "text/plain": [
       "(1178, 1)"
      ]
     },
     "execution_count": 14,
     "metadata": {},
     "output_type": "execute_result"
    }
   ],
   "source": [
    "prediction.shape"
   ]
  },
  {
   "cell_type": "code",
   "execution_count": 15,
   "metadata": {},
   "outputs": [],
   "source": [
    "Pred= s2.inverse_transform(prediction)"
   ]
  },
  {
   "cell_type": "code",
   "execution_count": 16,
   "metadata": {},
   "outputs": [],
   "source": [
    "Actual= s2.inverse_transform(y_test)"
   ]
  },
  {
   "cell_type": "code",
   "execution_count": 17,
   "metadata": {},
   "outputs": [],
   "source": [
    "Calculated = pd.DataFrame(Pred, columns = ['Prediction'])"
   ]
  },
  {
   "cell_type": "code",
   "execution_count": 18,
   "metadata": {},
   "outputs": [],
   "source": [
    "Calculated.to_csv(r'E:\\CatBoost_1\\Johannesburg\\AdaBoost\\cloudy hours\\prediction.csv', index = False)"
   ]
  },
  {
   "cell_type": "code",
   "execution_count": 19,
   "metadata": {},
   "outputs": [],
   "source": [
    "Actual = pd.DataFrame(Actual, columns = ['Actual'])"
   ]
  },
  {
   "cell_type": "code",
   "execution_count": 20,
   "metadata": {},
   "outputs": [],
   "source": [
    "Actual.to_csv(r'E:\\CatBoost_1\\Johannesburg\\AdaBoost\\cloudy hours\\Actual.csv', index = False)"
   ]
  },
  {
   "cell_type": "code",
   "execution_count": 21,
   "metadata": {},
   "outputs": [],
   "source": [
    "x=Pred\n",
    "z=Actual"
   ]
  },
  {
   "cell_type": "code",
   "execution_count": 22,
   "metadata": {},
   "outputs": [
    {
     "name": "stdout",
     "output_type": "stream",
     "text": [
      "Root Mean Square Error: 3.4487863293471244\n",
      "Mean Square Error: 11.89412714549161\n",
      "Mean Absolute Error: 2.1707838538737163\n",
      "Mean Absolute Percentage Error: 4395340274463845.0\n"
     ]
    }
   ],
   "source": [
    "from sklearn.metrics import mean_squared_error\n",
    "import math\n",
    "\n",
    " \n",
    "MSE = mean_squared_error(z,x)\n",
    " \n",
    "RMSE = math.sqrt(MSE)\n",
    "from sklearn.metrics import mean_absolute_error\n",
    "MAE=mean_absolute_error(z,x)\n",
    "MAE\n",
    "from sklearn.metrics import mean_absolute_percentage_error\n",
    "MAPE=mean_absolute_percentage_error(z,x)\n",
    "MAPE\n",
    "\n",
    "print(\"Root Mean Square Error:\",RMSE)\n",
    "print(\"Mean Square Error:\", MSE)\n",
    "print(\"Mean Absolute Error:\",MAE)\n",
    "print(\"Mean Absolute Percentage Error:\",MAPE)"
   ]
  },
  {
   "cell_type": "code",
   "execution_count": 23,
   "metadata": {},
   "outputs": [
    {
     "data": {
      "text/plain": [
       "363.72300469483605"
      ]
     },
     "execution_count": 23,
     "metadata": {},
     "output_type": "execute_result"
    }
   ],
   "source": [
    "max= x.max()\n",
    "max"
   ]
  },
  {
   "cell_type": "code",
   "execution_count": 24,
   "metadata": {},
   "outputs": [
    {
     "data": {
      "text/plain": [
       "1.2689655172413763"
      ]
     },
     "execution_count": 24,
     "metadata": {},
     "output_type": "execute_result"
    }
   ],
   "source": [
    "min=x.min()\n",
    "min"
   ]
  },
  {
   "cell_type": "code",
   "execution_count": 25,
   "metadata": {},
   "outputs": [
    {
     "name": "stdout",
     "output_type": "stream",
     "text": [
      "Normalized Root Mean Square Error: 0.9515099727326514\n"
     ]
    }
   ],
   "source": [
    "NRMSE= (RMSE/(max-min))*100\n",
    "print(\"Normalized Root Mean Square Error:\",NRMSE)"
   ]
  }
 ],
 "metadata": {
  "kernelspec": {
   "display_name": "Python 3.10.7 64-bit",
   "language": "python",
   "name": "python3"
  },
  "language_info": {
   "codemirror_mode": {
    "name": "ipython",
    "version": 3
   },
   "file_extension": ".py",
   "mimetype": "text/x-python",
   "name": "python",
   "nbconvert_exporter": "python",
   "pygments_lexer": "ipython3",
   "version": "3.10.9"
  },
  "orig_nbformat": 4,
  "vscode": {
   "interpreter": {
    "hash": "ac4210170004fc925580c073d42b7c18005567bca7a1d143f4e4d5a93e6c63c2"
   }
  }
 },
 "nbformat": 4,
 "nbformat_minor": 2
}
