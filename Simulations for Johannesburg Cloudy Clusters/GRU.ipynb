{
 "cells": [
  {
   "cell_type": "code",
   "execution_count": 15,
   "metadata": {},
   "outputs": [],
   "source": [
    "import numpy as np\n",
    "import pandas as pd\n",
    "import matplotlib.pyplot as plt\n",
    "from sklearn.preprocessing import MinMaxScaler\n",
    "from keras.models import Sequential\n",
    "from keras.layers import Dense \n",
    "from keras.layers import Dropout\n",
    "from keras.layers import LSTM\n",
    "from keras.layers import Dense, Dropout, Embedding, LSTM, Bidirectional,GRU\n",
    "from sklearn.metrics import mean_squared_error\n"
   ]
  },
  {
   "cell_type": "code",
   "execution_count": 16,
   "metadata": {},
   "outputs": [
    {
     "data": {
      "text/html": [
       "<div>\n",
       "<style scoped>\n",
       "    .dataframe tbody tr th:only-of-type {\n",
       "        vertical-align: middle;\n",
       "    }\n",
       "\n",
       "    .dataframe tbody tr th {\n",
       "        vertical-align: top;\n",
       "    }\n",
       "\n",
       "    .dataframe thead th {\n",
       "        text-align: right;\n",
       "    }\n",
       "</style>\n",
       "<table border=\"1\" class=\"dataframe\">\n",
       "  <thead>\n",
       "    <tr style=\"text-align: right;\">\n",
       "      <th></th>\n",
       "      <th>Clearsky DHI</th>\n",
       "      <th>GHI</th>\n",
       "      <th>cluster</th>\n",
       "      <th>Temperature</th>\n",
       "      <th>Clearsky DNI</th>\n",
       "      <th>Relative Humidity</th>\n",
       "      <th>Wind Speed</th>\n",
       "      <th>DNI</th>\n",
       "      <th>Cloud Type</th>\n",
       "      <th>Clearsky GHI</th>\n",
       "      <th>DHI</th>\n",
       "      <th>Solar Zenith Angle</th>\n",
       "    </tr>\n",
       "  </thead>\n",
       "  <tbody>\n",
       "    <tr>\n",
       "      <th>0</th>\n",
       "      <td>0</td>\n",
       "      <td>0</td>\n",
       "      <td>0</td>\n",
       "      <td>5.0</td>\n",
       "      <td>0</td>\n",
       "      <td>63.52</td>\n",
       "      <td>1.4</td>\n",
       "      <td>0</td>\n",
       "      <td>0</td>\n",
       "      <td>0</td>\n",
       "      <td>0</td>\n",
       "      <td>174.62</td>\n",
       "    </tr>\n",
       "    <tr>\n",
       "      <th>1</th>\n",
       "      <td>0</td>\n",
       "      <td>0</td>\n",
       "      <td>0</td>\n",
       "      <td>4.7</td>\n",
       "      <td>0</td>\n",
       "      <td>65.31</td>\n",
       "      <td>1.4</td>\n",
       "      <td>0</td>\n",
       "      <td>0</td>\n",
       "      <td>0</td>\n",
       "      <td>0</td>\n",
       "      <td>161.76</td>\n",
       "    </tr>\n",
       "    <tr>\n",
       "      <th>2</th>\n",
       "      <td>0</td>\n",
       "      <td>0</td>\n",
       "      <td>0</td>\n",
       "      <td>6.2</td>\n",
       "      <td>0</td>\n",
       "      <td>75.81</td>\n",
       "      <td>1.3</td>\n",
       "      <td>0</td>\n",
       "      <td>0</td>\n",
       "      <td>0</td>\n",
       "      <td>0</td>\n",
       "      <td>148.34</td>\n",
       "    </tr>\n",
       "    <tr>\n",
       "      <th>3</th>\n",
       "      <td>0</td>\n",
       "      <td>0</td>\n",
       "      <td>0</td>\n",
       "      <td>5.6</td>\n",
       "      <td>0</td>\n",
       "      <td>79.06</td>\n",
       "      <td>1.3</td>\n",
       "      <td>0</td>\n",
       "      <td>0</td>\n",
       "      <td>0</td>\n",
       "      <td>0</td>\n",
       "      <td>134.93</td>\n",
       "    </tr>\n",
       "    <tr>\n",
       "      <th>4</th>\n",
       "      <td>0</td>\n",
       "      <td>0</td>\n",
       "      <td>0</td>\n",
       "      <td>5.0</td>\n",
       "      <td>0</td>\n",
       "      <td>82.37</td>\n",
       "      <td>1.4</td>\n",
       "      <td>0</td>\n",
       "      <td>0</td>\n",
       "      <td>0</td>\n",
       "      <td>0</td>\n",
       "      <td>121.67</td>\n",
       "    </tr>\n",
       "  </tbody>\n",
       "</table>\n",
       "</div>"
      ],
      "text/plain": [
       "   Clearsky DHI  GHI  cluster  Temperature  Clearsky DNI  Relative Humidity  \\\n",
       "0             0    0        0          5.0             0              63.52   \n",
       "1             0    0        0          4.7             0              65.31   \n",
       "2             0    0        0          6.2             0              75.81   \n",
       "3             0    0        0          5.6             0              79.06   \n",
       "4             0    0        0          5.0             0              82.37   \n",
       "\n",
       "   Wind Speed  DNI  Cloud Type  Clearsky GHI  DHI  Solar Zenith Angle  \n",
       "0         1.4    0           0             0    0              174.62  \n",
       "1         1.4    0           0             0    0              161.76  \n",
       "2         1.3    0           0             0    0              148.34  \n",
       "3         1.3    0           0             0    0              134.93  \n",
       "4         1.4    0           0             0    0              121.67  "
      ]
     },
     "execution_count": 16,
     "metadata": {},
     "output_type": "execute_result"
    }
   ],
   "source": [
    "df = pd.read_csv('cloudy_cluster.csv')\n",
    "df.head()"
   ]
  },
  {
   "cell_type": "code",
   "execution_count": 17,
   "metadata": {},
   "outputs": [],
   "source": [
    "df.dropna(inplace=True)"
   ]
  },
  {
   "cell_type": "code",
   "execution_count": 18,
   "metadata": {},
   "outputs": [],
   "source": [
    "df.drop([\"cluster\"],axis=1,inplace=True)"
   ]
  },
  {
   "cell_type": "code",
   "execution_count": 19,
   "metadata": {},
   "outputs": [
    {
     "data": {
      "text/html": [
       "<div>\n",
       "<style scoped>\n",
       "    .dataframe tbody tr th:only-of-type {\n",
       "        vertical-align: middle;\n",
       "    }\n",
       "\n",
       "    .dataframe tbody tr th {\n",
       "        vertical-align: top;\n",
       "    }\n",
       "\n",
       "    .dataframe thead th {\n",
       "        text-align: right;\n",
       "    }\n",
       "</style>\n",
       "<table border=\"1\" class=\"dataframe\">\n",
       "  <thead>\n",
       "    <tr style=\"text-align: right;\">\n",
       "      <th></th>\n",
       "      <th>Clearsky DHI</th>\n",
       "      <th>GHI</th>\n",
       "      <th>Temperature</th>\n",
       "      <th>Clearsky DNI</th>\n",
       "      <th>Relative Humidity</th>\n",
       "      <th>Wind Speed</th>\n",
       "      <th>DNI</th>\n",
       "      <th>Cloud Type</th>\n",
       "      <th>Clearsky GHI</th>\n",
       "      <th>DHI</th>\n",
       "      <th>Solar Zenith Angle</th>\n",
       "    </tr>\n",
       "  </thead>\n",
       "  <tbody>\n",
       "    <tr>\n",
       "      <th>0</th>\n",
       "      <td>0</td>\n",
       "      <td>0</td>\n",
       "      <td>5.0</td>\n",
       "      <td>0</td>\n",
       "      <td>63.52</td>\n",
       "      <td>1.4</td>\n",
       "      <td>0</td>\n",
       "      <td>0</td>\n",
       "      <td>0</td>\n",
       "      <td>0</td>\n",
       "      <td>174.62</td>\n",
       "    </tr>\n",
       "    <tr>\n",
       "      <th>1</th>\n",
       "      <td>0</td>\n",
       "      <td>0</td>\n",
       "      <td>4.7</td>\n",
       "      <td>0</td>\n",
       "      <td>65.31</td>\n",
       "      <td>1.4</td>\n",
       "      <td>0</td>\n",
       "      <td>0</td>\n",
       "      <td>0</td>\n",
       "      <td>0</td>\n",
       "      <td>161.76</td>\n",
       "    </tr>\n",
       "    <tr>\n",
       "      <th>2</th>\n",
       "      <td>0</td>\n",
       "      <td>0</td>\n",
       "      <td>6.2</td>\n",
       "      <td>0</td>\n",
       "      <td>75.81</td>\n",
       "      <td>1.3</td>\n",
       "      <td>0</td>\n",
       "      <td>0</td>\n",
       "      <td>0</td>\n",
       "      <td>0</td>\n",
       "      <td>148.34</td>\n",
       "    </tr>\n",
       "    <tr>\n",
       "      <th>3</th>\n",
       "      <td>0</td>\n",
       "      <td>0</td>\n",
       "      <td>5.6</td>\n",
       "      <td>0</td>\n",
       "      <td>79.06</td>\n",
       "      <td>1.3</td>\n",
       "      <td>0</td>\n",
       "      <td>0</td>\n",
       "      <td>0</td>\n",
       "      <td>0</td>\n",
       "      <td>134.93</td>\n",
       "    </tr>\n",
       "    <tr>\n",
       "      <th>4</th>\n",
       "      <td>0</td>\n",
       "      <td>0</td>\n",
       "      <td>5.0</td>\n",
       "      <td>0</td>\n",
       "      <td>82.37</td>\n",
       "      <td>1.4</td>\n",
       "      <td>0</td>\n",
       "      <td>0</td>\n",
       "      <td>0</td>\n",
       "      <td>0</td>\n",
       "      <td>121.67</td>\n",
       "    </tr>\n",
       "  </tbody>\n",
       "</table>\n",
       "</div>"
      ],
      "text/plain": [
       "   Clearsky DHI  GHI  Temperature  Clearsky DNI  Relative Humidity  \\\n",
       "0             0    0          5.0             0              63.52   \n",
       "1             0    0          4.7             0              65.31   \n",
       "2             0    0          6.2             0              75.81   \n",
       "3             0    0          5.6             0              79.06   \n",
       "4             0    0          5.0             0              82.37   \n",
       "\n",
       "   Wind Speed  DNI  Cloud Type  Clearsky GHI  DHI  Solar Zenith Angle  \n",
       "0         1.4    0           0             0    0              174.62  \n",
       "1         1.4    0           0             0    0              161.76  \n",
       "2         1.3    0           0             0    0              148.34  \n",
       "3         1.3    0           0             0    0              134.93  \n",
       "4         1.4    0           0             0    0              121.67  "
      ]
     },
     "execution_count": 19,
     "metadata": {},
     "output_type": "execute_result"
    }
   ],
   "source": [
    "df.head()"
   ]
  },
  {
   "cell_type": "code",
   "execution_count": 20,
   "metadata": {},
   "outputs": [
    {
     "data": {
      "text/html": [
       "<div>\n",
       "<style scoped>\n",
       "    .dataframe tbody tr th:only-of-type {\n",
       "        vertical-align: middle;\n",
       "    }\n",
       "\n",
       "    .dataframe tbody tr th {\n",
       "        vertical-align: top;\n",
       "    }\n",
       "\n",
       "    .dataframe thead th {\n",
       "        text-align: right;\n",
       "    }\n",
       "</style>\n",
       "<table border=\"1\" class=\"dataframe\">\n",
       "  <thead>\n",
       "    <tr style=\"text-align: right;\">\n",
       "      <th></th>\n",
       "      <th>Clearsky DHI</th>\n",
       "      <th>GHI</th>\n",
       "      <th>Temperature</th>\n",
       "      <th>Clearsky DNI</th>\n",
       "      <th>Relative Humidity</th>\n",
       "      <th>Wind Speed</th>\n",
       "      <th>DNI</th>\n",
       "      <th>Cloud Type</th>\n",
       "      <th>Clearsky GHI</th>\n",
       "      <th>DHI</th>\n",
       "      <th>Solar Zenith Angle</th>\n",
       "    </tr>\n",
       "  </thead>\n",
       "  <tbody>\n",
       "    <tr>\n",
       "      <th>count</th>\n",
       "      <td>5888.000000</td>\n",
       "      <td>5888.000000</td>\n",
       "      <td>5888.000000</td>\n",
       "      <td>5888.000000</td>\n",
       "      <td>5888.000000</td>\n",
       "      <td>5888.000000</td>\n",
       "      <td>5888.000000</td>\n",
       "      <td>5888.000000</td>\n",
       "      <td>5888.000000</td>\n",
       "      <td>5888.000000</td>\n",
       "      <td>5888.000000</td>\n",
       "    </tr>\n",
       "    <tr>\n",
       "      <th>mean</th>\n",
       "      <td>22.804008</td>\n",
       "      <td>42.034137</td>\n",
       "      <td>18.194124</td>\n",
       "      <td>82.918648</td>\n",
       "      <td>40.696788</td>\n",
       "      <td>2.417833</td>\n",
       "      <td>71.039402</td>\n",
       "      <td>0.744565</td>\n",
       "      <td>48.393682</td>\n",
       "      <td>21.630605</td>\n",
       "      <td>113.522045</td>\n",
       "    </tr>\n",
       "    <tr>\n",
       "      <th>std</th>\n",
       "      <td>49.770999</td>\n",
       "      <td>92.543872</td>\n",
       "      <td>8.220768</td>\n",
       "      <td>180.425605</td>\n",
       "      <td>19.206628</td>\n",
       "      <td>1.116259</td>\n",
       "      <td>164.585380</td>\n",
       "      <td>2.040437</td>\n",
       "      <td>109.771611</td>\n",
       "      <td>46.143014</td>\n",
       "      <td>29.116220</td>\n",
       "    </tr>\n",
       "    <tr>\n",
       "      <th>min</th>\n",
       "      <td>0.000000</td>\n",
       "      <td>0.000000</td>\n",
       "      <td>-0.800000</td>\n",
       "      <td>0.000000</td>\n",
       "      <td>6.100000</td>\n",
       "      <td>0.200000</td>\n",
       "      <td>0.000000</td>\n",
       "      <td>0.000000</td>\n",
       "      <td>0.000000</td>\n",
       "      <td>0.000000</td>\n",
       "      <td>19.630000</td>\n",
       "    </tr>\n",
       "    <tr>\n",
       "      <th>25%</th>\n",
       "      <td>0.000000</td>\n",
       "      <td>0.000000</td>\n",
       "      <td>11.075000</td>\n",
       "      <td>0.000000</td>\n",
       "      <td>26.630000</td>\n",
       "      <td>1.600000</td>\n",
       "      <td>0.000000</td>\n",
       "      <td>0.000000</td>\n",
       "      <td>0.000000</td>\n",
       "      <td>0.000000</td>\n",
       "      <td>88.857500</td>\n",
       "    </tr>\n",
       "    <tr>\n",
       "      <th>50%</th>\n",
       "      <td>0.000000</td>\n",
       "      <td>0.000000</td>\n",
       "      <td>18.700000</td>\n",
       "      <td>0.000000</td>\n",
       "      <td>36.660000</td>\n",
       "      <td>2.200000</td>\n",
       "      <td>0.000000</td>\n",
       "      <td>0.000000</td>\n",
       "      <td>0.000000</td>\n",
       "      <td>0.000000</td>\n",
       "      <td>114.565000</td>\n",
       "    </tr>\n",
       "    <tr>\n",
       "      <th>75%</th>\n",
       "      <td>1.250000</td>\n",
       "      <td>1.250000</td>\n",
       "      <td>24.800000</td>\n",
       "      <td>0.000000</td>\n",
       "      <td>51.410000</td>\n",
       "      <td>3.100000</td>\n",
       "      <td>0.000000</td>\n",
       "      <td>0.000000</td>\n",
       "      <td>1.250000</td>\n",
       "      <td>1.250000</td>\n",
       "      <td>134.842500</td>\n",
       "    </tr>\n",
       "    <tr>\n",
       "      <th>max</th>\n",
       "      <td>480.000000</td>\n",
       "      <td>390.000000</td>\n",
       "      <td>39.400000</td>\n",
       "      <td>912.000000</td>\n",
       "      <td>100.000000</td>\n",
       "      <td>7.800000</td>\n",
       "      <td>802.000000</td>\n",
       "      <td>8.000000</td>\n",
       "      <td>901.000000</td>\n",
       "      <td>313.000000</td>\n",
       "      <td>174.720000</td>\n",
       "    </tr>\n",
       "  </tbody>\n",
       "</table>\n",
       "</div>"
      ],
      "text/plain": [
       "       Clearsky DHI          GHI  Temperature  Clearsky DNI  \\\n",
       "count   5888.000000  5888.000000  5888.000000   5888.000000   \n",
       "mean      22.804008    42.034137    18.194124     82.918648   \n",
       "std       49.770999    92.543872     8.220768    180.425605   \n",
       "min        0.000000     0.000000    -0.800000      0.000000   \n",
       "25%        0.000000     0.000000    11.075000      0.000000   \n",
       "50%        0.000000     0.000000    18.700000      0.000000   \n",
       "75%        1.250000     1.250000    24.800000      0.000000   \n",
       "max      480.000000   390.000000    39.400000    912.000000   \n",
       "\n",
       "       Relative Humidity   Wind Speed          DNI   Cloud Type  Clearsky GHI  \\\n",
       "count        5888.000000  5888.000000  5888.000000  5888.000000   5888.000000   \n",
       "mean           40.696788     2.417833    71.039402     0.744565     48.393682   \n",
       "std            19.206628     1.116259   164.585380     2.040437    109.771611   \n",
       "min             6.100000     0.200000     0.000000     0.000000      0.000000   \n",
       "25%            26.630000     1.600000     0.000000     0.000000      0.000000   \n",
       "50%            36.660000     2.200000     0.000000     0.000000      0.000000   \n",
       "75%            51.410000     3.100000     0.000000     0.000000      1.250000   \n",
       "max           100.000000     7.800000   802.000000     8.000000    901.000000   \n",
       "\n",
       "               DHI  Solar Zenith Angle  \n",
       "count  5888.000000         5888.000000  \n",
       "mean     21.630605          113.522045  \n",
       "std      46.143014           29.116220  \n",
       "min       0.000000           19.630000  \n",
       "25%       0.000000           88.857500  \n",
       "50%       0.000000          114.565000  \n",
       "75%       1.250000          134.842500  \n",
       "max     313.000000          174.720000  "
      ]
     },
     "execution_count": 20,
     "metadata": {},
     "output_type": "execute_result"
    }
   ],
   "source": [
    "df.describe()"
   ]
  },
  {
   "cell_type": "code",
   "execution_count": 21,
   "metadata": {},
   "outputs": [],
   "source": [
    "s1= MinMaxScaler(feature_range=(-1,1))\n",
    "Xs= s1.fit_transform(df)"
   ]
  },
  {
   "cell_type": "code",
   "execution_count": 22,
   "metadata": {},
   "outputs": [],
   "source": [
    "\n",
    "s2=MinMaxScaler(feature_range=(-1,1))\n",
    "Ys= s2.fit_transform(df[['GHI']])"
   ]
  },
  {
   "cell_type": "code",
   "execution_count": 23,
   "metadata": {},
   "outputs": [
    {
     "data": {
      "text/plain": [
       "(5888, 11)"
      ]
     },
     "execution_count": 23,
     "metadata": {},
     "output_type": "execute_result"
    }
   ],
   "source": [
    "Xs.shape"
   ]
  },
  {
   "cell_type": "code",
   "execution_count": 24,
   "metadata": {},
   "outputs": [],
   "source": [
    "#Xs.reshape(1,662,6)"
   ]
  },
  {
   "cell_type": "code",
   "execution_count": 25,
   "metadata": {},
   "outputs": [
    {
     "data": {
      "text/plain": [
       "(5888, 1)"
      ]
     },
     "execution_count": 25,
     "metadata": {},
     "output_type": "execute_result"
    }
   ],
   "source": [
    "Ys.shape"
   ]
  },
  {
   "cell_type": "code",
   "execution_count": 26,
   "metadata": {},
   "outputs": [],
   "source": [
    "window= 5\n",
    "X=[]\n",
    "Y=[]\n",
    "for i in range(window,len(Xs)):\n",
    "    X.append(Xs[i-window:i,:])\n",
    "    Y.append(Ys[i])"
   ]
  },
  {
   "cell_type": "code",
   "execution_count": 27,
   "metadata": {},
   "outputs": [],
   "source": [
    "X,Y = np.array(X), np.array(Y)"
   ]
  },
  {
   "cell_type": "code",
   "execution_count": 28,
   "metadata": {},
   "outputs": [
    {
     "data": {
      "text/plain": [
       "((4711, 5, 11), (4711, 1), (1172, 5, 11), (1172, 1))"
      ]
     },
     "execution_count": 28,
     "metadata": {},
     "output_type": "execute_result"
    }
   ],
   "source": [
    "X_train1, y_train1 = X[:4711], Y[:4711]\n",
    "X_test1, y_test1 = X[4711:], Y[4711:]\n",
    "X_train1.shape, y_train1.shape,X_test1.shape, y_test1.shape\n"
   ]
  },
  {
   "cell_type": "code",
   "execution_count": 29,
   "metadata": {},
   "outputs": [],
   "source": [
    "from tensorflow.keras.models import Sequential\n",
    "from tensorflow.keras.layers import *\n",
    "from tensorflow.keras.callbacks import ModelCheckpoint\n",
    "from tensorflow.keras.losses import MeanSquaredError\n",
    "from tensorflow.keras.metrics import RootMeanSquaredError\n",
    "from tensorflow.keras.optimizers import RMSprop\n",
    "from tensorflow.keras.optimizers import Adam\n",
    "import tensorflow as tf \n",
    "model= Sequential()\n",
    "#model.add(LSTM(units=50,return_sequences=True,input_shape=(X.shape[1],X.shape[2])))  \n",
    "#model.add(Dropout (0.2))\n",
    "#model.add(LSTM(units=50,return_sequences=True))\n",
    "\n",
    "#model.add(Dropout (0.2))\n",
    "#model.add(LSTM(units=50))\n",
    "#model.add(Dropout (0.2))\n",
    "#model.add(Dense(units=1))\n",
    "#model.compile(optimizer= 'adam',loss='mean_squared_error',metrics=['accuracy'])\n",
    "\n",
    "# Adding the first LSTM layer and some Dropout regularisation\n",
    "model.add(GRU(units = 64, activation='relu', return_sequences=True,input_shape=(X_train1.shape[1], X_train1.shape[2])))\n",
    "model.add(Dropout(0.1))\n",
    "model.add(GRU(units = 128, activation='relu',return_sequences=True ))\n",
    "model.add(Dropout(0.1))\n",
    "model.add(LSTM(units = 32, activation='relu',return_sequences=True ))\n",
    "model.add(Dropout(0.1))\n",
    "model.add(GRU(units = 32, activation='relu'))\n",
    "model.add(Dropout(0.1))\n",
    "\n",
    "# Adding the output layer\n",
    "model.add(Dense(units = 10))    \n",
    "model.add(Dense(units = 1))     \n",
    "\n",
    "model.compile(loss=MeanSquaredError(), optimizer=Adam(learning_rate=0.01), metrics=[RootMeanSquaredError()])"
   ]
  },
  {
   "cell_type": "code",
   "execution_count": 30,
   "metadata": {},
   "outputs": [
    {
     "name": "stdout",
     "output_type": "stream",
     "text": [
      "Epoch 1/20\n",
      "148/148 [==============================] - 11s 19ms/step - loss: 0.1416 - root_mean_squared_error: 0.3763\n",
      "Epoch 2/20\n",
      "148/148 [==============================] - 3s 22ms/step - loss: 0.0480 - root_mean_squared_error: 0.2192\n",
      "Epoch 3/20\n",
      "148/148 [==============================] - 3s 22ms/step - loss: 0.0365 - root_mean_squared_error: 0.1911\n",
      "Epoch 4/20\n",
      "148/148 [==============================] - 3s 19ms/step - loss: 0.0349 - root_mean_squared_error: 0.1867\n",
      "Epoch 5/20\n",
      "148/148 [==============================] - 3s 19ms/step - loss: 0.0344 - root_mean_squared_error: 0.1854\n",
      "Epoch 6/20\n",
      "148/148 [==============================] - 3s 22ms/step - loss: 0.0331 - root_mean_squared_error: 0.1820\n",
      "Epoch 7/20\n",
      "148/148 [==============================] - 3s 20ms/step - loss: 0.0318 - root_mean_squared_error: 0.1784\n",
      "Epoch 8/20\n",
      "148/148 [==============================] - 3s 18ms/step - loss: 0.0324 - root_mean_squared_error: 0.1800\n",
      "Epoch 9/20\n",
      "148/148 [==============================] - 2s 17ms/step - loss: 0.0339 - root_mean_squared_error: 0.1842\n",
      "Epoch 10/20\n",
      "148/148 [==============================] - 2s 17ms/step - loss: 0.0307 - root_mean_squared_error: 0.1753\n",
      "Epoch 11/20\n",
      "148/148 [==============================] - 2s 17ms/step - loss: 0.0303 - root_mean_squared_error: 0.1741\n",
      "Epoch 12/20\n",
      "148/148 [==============================] - 2s 16ms/step - loss: 0.0287 - root_mean_squared_error: 0.1695\n",
      "Epoch 13/20\n",
      "148/148 [==============================] - 2s 16ms/step - loss: 0.0280 - root_mean_squared_error: 0.1674\n",
      "Epoch 14/20\n",
      "148/148 [==============================] - 2s 16ms/step - loss: 0.0285 - root_mean_squared_error: 0.1687\n",
      "Epoch 15/20\n",
      "148/148 [==============================] - 2s 16ms/step - loss: 0.0291 - root_mean_squared_error: 0.1707\n",
      "Epoch 16/20\n",
      "148/148 [==============================] - 2s 17ms/step - loss: 0.0265 - root_mean_squared_error: 0.1628\n",
      "Epoch 17/20\n",
      "148/148 [==============================] - 3s 17ms/step - loss: 0.0248 - root_mean_squared_error: 0.1575\n",
      "Epoch 18/20\n",
      "148/148 [==============================] - 2s 16ms/step - loss: 0.0261 - root_mean_squared_error: 0.1614\n",
      "Epoch 19/20\n",
      "148/148 [==============================] - 2s 16ms/step - loss: 0.0267 - root_mean_squared_error: 0.1635\n",
      "Epoch 20/20\n",
      "148/148 [==============================] - 3s 17ms/step - loss: 0.0252 - root_mean_squared_error: 0.1589\n"
     ]
    }
   ],
   "source": [
    "#from keras.callbacks import EarlyStopping\n",
    "#earlyStop=EarlyStopping(monitor=\"val_loss\",verbose=2,mode='min',patience=50)\n",
    "import time \n",
    "start= time.time()\n",
    "history=model.fit(X_train1,y_train1,epochs=20)\n",
    "end= time.time()\n",
    "continental= end-start"
   ]
  },
  {
   "cell_type": "code",
   "execution_count": 31,
   "metadata": {},
   "outputs": [
    {
     "data": {
      "text/plain": [
       "[<matplotlib.lines.Line2D at 0x17fff458bb0>]"
      ]
     },
     "execution_count": 31,
     "metadata": {},
     "output_type": "execute_result"
    },
    {
     "data": {
      "image/png": "[encoded data removed]",
      "text/plain": [
       "<Figure size 432x288 with 1 Axes>"
      ]
     },
     "metadata": {
      "needs_background": "light"
     },
     "output_type": "display_data"
    }
   ],
   "source": [
    "loss_per_epoch = model.history.history['loss']\n",
    "plt.plot(range(len(loss_per_epoch)),loss_per_epoch)"
   ]
  },
  {
   "cell_type": "code",
   "execution_count": 32,
   "metadata": {},
   "outputs": [
    {
     "name": "stdout",
     "output_type": "stream",
     "text": [
      "37/37 [==============================] - 1s 5ms/step\n",
      "inference time: 1.0152091979980469\n",
      "[[ 0.22418636]\n",
      " [-0.31023067]\n",
      " [-0.951477  ]\n",
      " ...\n",
      " [-1.0003479 ]\n",
      " [-0.9803962 ]\n",
      " [-0.9961131 ]]\n"
     ]
    }
   ],
   "source": [
    "import time\n",
    "start=time.time()\n",
    "Yp= model.predict(X_test1)\n",
    "end=time.time()\n",
    "continental=end-start\n",
    "print(\"inference time:\",continental)\n",
    "print(Yp)"
   ]
  },
  {
   "cell_type": "code",
   "execution_count": 33,
   "metadata": {},
   "outputs": [
    {
     "data": {
      "text/plain": [
       "(1172, 1)"
      ]
     },
     "execution_count": 33,
     "metadata": {},
     "output_type": "execute_result"
    }
   ],
   "source": [
    "Yp.shape"
   ]
  },
  {
   "cell_type": "code",
   "execution_count": 34,
   "metadata": {},
   "outputs": [],
   "source": [
    "pred= s2.inverse_transform(Yp)"
   ]
  },
  {
   "cell_type": "code",
   "execution_count": 35,
   "metadata": {},
   "outputs": [],
   "source": [
    "Actual= s2.inverse_transform(y_test1)"
   ]
  },
  {
   "cell_type": "code",
   "execution_count": 36,
   "metadata": {},
   "outputs": [],
   "source": [
    "x= pred\n",
    "z= Actual"
   ]
  },
  {
   "cell_type": "code",
   "execution_count": 37,
   "metadata": {},
   "outputs": [
    {
     "name": "stdout",
     "output_type": "stream",
     "text": [
      "Root Mean Square Error: 30.663576167375144\n",
      "Mean Square Error: 940.2549033724168\n",
      "Mean Absolute Error: 12.356523293378817\n"
     ]
    }
   ],
   "source": [
    "from sklearn.metrics import mean_squared_error\n",
    "import math\n",
    "MSE = mean_squared_error(z,x)\n",
    "RMSE = math.sqrt(MSE)\n",
    "from sklearn.metrics import mean_absolute_error\n",
    "MAE=mean_absolute_error(z,x)\n",
    "print(\"Root Mean Square Error:\",RMSE)\n",
    "print(\"Mean Square Error:\", MSE)\n",
    "print(\"Mean Absolute Error:\",MAE)"
   ]
  },
  {
   "cell_type": "code",
   "execution_count": 38,
   "metadata": {},
   "outputs": [
    {
     "data": {
      "text/plain": [
       "(290.01636, -1.8295848, 42.26094)"
      ]
     },
     "execution_count": 38,
     "metadata": {},
     "output_type": "execute_result"
    }
   ],
   "source": [
    "max= x.max()\n",
    "min= x.min()\n",
    "mean= x.mean()\n",
    "max,min,mean"
   ]
  },
  {
   "cell_type": "code",
   "execution_count": 39,
   "metadata": {},
   "outputs": [
    {
     "data": {
      "text/plain": [
       "10.506767852927059"
      ]
     },
     "execution_count": 39,
     "metadata": {},
     "output_type": "execute_result"
    }
   ],
   "source": [
    "NRMSE= (RMSE/(max-min))*100\n",
    "NRMSE"
   ]
  },
  {
   "cell_type": "code",
   "execution_count": 40,
   "metadata": {},
   "outputs": [],
   "source": [
    "Calculated =pd.DataFrame(x, columns = ['Prediction'])\n",
    "Actual = pd.DataFrame(z, columns = ['Actual'])\n"
   ]
  },
  {
   "cell_type": "code",
   "execution_count": 42,
   "metadata": {},
   "outputs": [],
   "source": [
    "Calculated.to_csv(r\"E:\\CatBoost_1\\Johannesburg\\GRU\\Cloudy hours\\prediction.csv\")"
   ]
  },
  {
   "cell_type": "code",
   "execution_count": 43,
   "metadata": {},
   "outputs": [],
   "source": [
    "Actual.to_csv(r\"E:\\CatBoost_1\\Johannesburg\\GRU\\Cloudy hours\\Actual.csv\")"
   ]
  }
 ],
 "metadata": {
  "kernelspec": {
   "display_name": "Python 3.10.6 64-bit",
   "language": "python",
   "name": "python3"
  },
  "language_info": {
   "codemirror_mode": {
    "name": "ipython",
    "version": 3
   },
   "file_extension": ".py",
   "mimetype": "text/x-python",
   "name": "python",
   "nbconvert_exporter": "python",
   "pygments_lexer": "ipython3",
   "version": "3.10.9"
  },
  "orig_nbformat": 4,
  "vscode": {
   "interpreter": {
    "hash": "ac4210170004fc925580c073d42b7c18005567bca7a1d143f4e4d5a93e6c63c2"
   }
  }
 },
 "nbformat": 4,
 "nbformat_minor": 2
}
