{
 "cells": [
  {
   "cell_type": "code",
   "execution_count": 1,
   "metadata": {},
   "outputs": [
    {
     "name": "stderr",
     "output_type": "stream",
     "text": [
      "c:\\Users\\sunrise\\AppData\\Local\\Programs\\Python\\Python310\\lib\\site-packages\\tqdm\\auto.py:22: TqdmWarning: IProgress not found. Please update jupyter and ipywidgets. See https://ipywidgets.readthedocs.io/en/stable/user_install.html\n",
      "  from .autonotebook import tqdm as notebook_tqdm\n"
     ]
    }
   ],
   "source": [
    "\n",
    "import numpy as np\n",
    "import pandas as pd\n",
    "import seaborn as sns\n",
    "import shap\n",
    "from sklearn.model_selection import train_test_split\n",
    "from sklearn.inspection import permutation_importance\n",
    "from sklearn.preprocessing import MinMaxScaler\n",
    "import tqdm as nootbook_tqdm\n",
    "from sklearn.ensemble import AdaBoostRegressor\n"
   ]
  },
  {
   "cell_type": "code",
   "execution_count": 2,
   "metadata": {},
   "outputs": [
    {
     "data": {
      "text/html": [
       "<div>\n",
       "<style scoped>\n",
       "    .dataframe tbody tr th:only-of-type {\n",
       "        vertical-align: middle;\n",
       "    }\n",
       "\n",
       "    .dataframe tbody tr th {\n",
       "        vertical-align: top;\n",
       "    }\n",
       "\n",
       "    .dataframe thead th {\n",
       "        text-align: right;\n",
       "    }\n",
       "</style>\n",
       "<table border=\"1\" class=\"dataframe\">\n",
       "  <thead>\n",
       "    <tr style=\"text-align: right;\">\n",
       "      <th></th>\n",
       "      <th>Clearsky DHI</th>\n",
       "      <th>GHI</th>\n",
       "      <th>cluster</th>\n",
       "      <th>Temperature</th>\n",
       "      <th>Clearsky DNI</th>\n",
       "      <th>Relative Humidity</th>\n",
       "      <th>Wind Speed</th>\n",
       "      <th>DNI</th>\n",
       "      <th>Cloud Type</th>\n",
       "      <th>Clearsky GHI</th>\n",
       "      <th>DHI</th>\n",
       "      <th>Solar Zenith Angle</th>\n",
       "    </tr>\n",
       "  </thead>\n",
       "  <tbody>\n",
       "    <tr>\n",
       "      <th>0</th>\n",
       "      <td>108</td>\n",
       "      <td>403</td>\n",
       "      <td>1</td>\n",
       "      <td>14.5</td>\n",
       "      <td>889</td>\n",
       "      <td>40.65</td>\n",
       "      <td>3.4</td>\n",
       "      <td>241</td>\n",
       "      <td>7</td>\n",
       "      <td>618</td>\n",
       "      <td>265</td>\n",
       "      <td>54.95</td>\n",
       "    </tr>\n",
       "    <tr>\n",
       "      <th>1</th>\n",
       "      <td>114</td>\n",
       "      <td>702</td>\n",
       "      <td>1</td>\n",
       "      <td>15.7</td>\n",
       "      <td>920</td>\n",
       "      <td>36.14</td>\n",
       "      <td>3.7</td>\n",
       "      <td>920</td>\n",
       "      <td>0</td>\n",
       "      <td>702</td>\n",
       "      <td>114</td>\n",
       "      <td>50.20</td>\n",
       "    </tr>\n",
       "    <tr>\n",
       "      <th>2</th>\n",
       "      <td>115</td>\n",
       "      <td>715</td>\n",
       "      <td>1</td>\n",
       "      <td>16.4</td>\n",
       "      <td>923</td>\n",
       "      <td>33.37</td>\n",
       "      <td>3.9</td>\n",
       "      <td>923</td>\n",
       "      <td>0</td>\n",
       "      <td>715</td>\n",
       "      <td>115</td>\n",
       "      <td>49.41</td>\n",
       "    </tr>\n",
       "    <tr>\n",
       "      <th>3</th>\n",
       "      <td>111</td>\n",
       "      <td>657</td>\n",
       "      <td>1</td>\n",
       "      <td>16.7</td>\n",
       "      <td>901</td>\n",
       "      <td>31.61</td>\n",
       "      <td>4.0</td>\n",
       "      <td>901</td>\n",
       "      <td>1</td>\n",
       "      <td>657</td>\n",
       "      <td>111</td>\n",
       "      <td>52.76</td>\n",
       "    </tr>\n",
       "    <tr>\n",
       "      <th>4</th>\n",
       "      <td>100</td>\n",
       "      <td>533</td>\n",
       "      <td>1</td>\n",
       "      <td>16.6</td>\n",
       "      <td>854</td>\n",
       "      <td>30.95</td>\n",
       "      <td>4.0</td>\n",
       "      <td>854</td>\n",
       "      <td>0</td>\n",
       "      <td>533</td>\n",
       "      <td>100</td>\n",
       "      <td>59.55</td>\n",
       "    </tr>\n",
       "  </tbody>\n",
       "</table>\n",
       "</div>"
      ],
      "text/plain": [
       "   Clearsky DHI  GHI  cluster  Temperature  Clearsky DNI  Relative Humidity  \\\n",
       "0           108  403        1         14.5           889              40.65   \n",
       "1           114  702        1         15.7           920              36.14   \n",
       "2           115  715        1         16.4           923              33.37   \n",
       "3           111  657        1         16.7           901              31.61   \n",
       "4           100  533        1         16.6           854              30.95   \n",
       "\n",
       "   Wind Speed  DNI  Cloud Type  Clearsky GHI  DHI  Solar Zenith Angle  \n",
       "0         3.4  241           7           618  265               54.95  \n",
       "1         3.7  920           0           702  114               50.20  \n",
       "2         3.9  923           0           715  115               49.41  \n",
       "3         4.0  901           1           657  111               52.76  \n",
       "4         4.0  854           0           533  100               59.55  "
      ]
     },
     "execution_count": 2,
     "metadata": {},
     "output_type": "execute_result"
    }
   ],
   "source": [
    "df=pd.read_csv(\"sunny_cluster.csv\")\n",
    "df.head()"
   ]
  },
  {
   "cell_type": "code",
   "execution_count": 3,
   "metadata": {},
   "outputs": [
    {
     "data": {
      "text/plain": [
       "(2872, 12)"
      ]
     },
     "execution_count": 3,
     "metadata": {},
     "output_type": "execute_result"
    }
   ],
   "source": [
    "df.shape"
   ]
  },
  {
   "cell_type": "code",
   "execution_count": 4,
   "metadata": {},
   "outputs": [
    {
     "data": {
      "text/plain": [
       "Clearsky DHI          0\n",
       "GHI                   0\n",
       "cluster               0\n",
       "Temperature           0\n",
       "Clearsky DNI          0\n",
       "Relative Humidity     0\n",
       "Wind Speed            0\n",
       "DNI                   0\n",
       "Cloud Type            0\n",
       "Clearsky GHI          0\n",
       "DHI                   0\n",
       "Solar Zenith Angle    0\n",
       "dtype: int64"
      ]
     },
     "execution_count": 4,
     "metadata": {},
     "output_type": "execute_result"
    }
   ],
   "source": [
    "df.isnull().sum()"
   ]
  },
  {
   "cell_type": "code",
   "execution_count": 5,
   "metadata": {},
   "outputs": [],
   "source": [
    "df.drop(['cluster'], axis = 1, inplace = True) "
   ]
  },
  {
   "cell_type": "code",
   "execution_count": 6,
   "metadata": {},
   "outputs": [
    {
     "data": {
      "text/html": [
       "<div>\n",
       "<style scoped>\n",
       "    .dataframe tbody tr th:only-of-type {\n",
       "        vertical-align: middle;\n",
       "    }\n",
       "\n",
       "    .dataframe tbody tr th {\n",
       "        vertical-align: top;\n",
       "    }\n",
       "\n",
       "    .dataframe thead th {\n",
       "        text-align: right;\n",
       "    }\n",
       "</style>\n",
       "<table border=\"1\" class=\"dataframe\">\n",
       "  <thead>\n",
       "    <tr style=\"text-align: right;\">\n",
       "      <th></th>\n",
       "      <th>Clearsky DHI</th>\n",
       "      <th>GHI</th>\n",
       "      <th>Temperature</th>\n",
       "      <th>Clearsky DNI</th>\n",
       "      <th>Relative Humidity</th>\n",
       "      <th>Wind Speed</th>\n",
       "      <th>DNI</th>\n",
       "      <th>Cloud Type</th>\n",
       "      <th>Clearsky GHI</th>\n",
       "      <th>DHI</th>\n",
       "      <th>Solar Zenith Angle</th>\n",
       "    </tr>\n",
       "  </thead>\n",
       "  <tbody>\n",
       "    <tr>\n",
       "      <th>count</th>\n",
       "      <td>2872.000000</td>\n",
       "      <td>2872.000000</td>\n",
       "      <td>2872.000000</td>\n",
       "      <td>2872.000000</td>\n",
       "      <td>2872.000000</td>\n",
       "      <td>2872.000000</td>\n",
       "      <td>2872.000000</td>\n",
       "      <td>2872.000000</td>\n",
       "      <td>2872.000000</td>\n",
       "      <td>2872.000000</td>\n",
       "      <td>2872.000000</td>\n",
       "    </tr>\n",
       "    <tr>\n",
       "      <th>mean</th>\n",
       "      <td>196.069290</td>\n",
       "      <td>732.918872</td>\n",
       "      <td>28.169394</td>\n",
       "      <td>744.552228</td>\n",
       "      <td>23.098088</td>\n",
       "      <td>4.163022</td>\n",
       "      <td>722.517409</td>\n",
       "      <td>0.430362</td>\n",
       "      <td>744.193593</td>\n",
       "      <td>201.089833</td>\n",
       "      <td>40.970286</td>\n",
       "    </tr>\n",
       "    <tr>\n",
       "      <th>std</th>\n",
       "      <td>70.114563</td>\n",
       "      <td>193.575924</td>\n",
       "      <td>8.048195</td>\n",
       "      <td>134.986357</td>\n",
       "      <td>11.223323</td>\n",
       "      <td>1.540044</td>\n",
       "      <td>164.395314</td>\n",
       "      <td>1.591959</td>\n",
       "      <td>189.422882</td>\n",
       "      <td>73.647434</td>\n",
       "      <td>15.695106</td>\n",
       "    </tr>\n",
       "    <tr>\n",
       "      <th>min</th>\n",
       "      <td>79.000000</td>\n",
       "      <td>320.000000</td>\n",
       "      <td>7.500000</td>\n",
       "      <td>162.000000</td>\n",
       "      <td>4.460000</td>\n",
       "      <td>0.300000</td>\n",
       "      <td>17.000000</td>\n",
       "      <td>0.000000</td>\n",
       "      <td>358.000000</td>\n",
       "      <td>79.000000</td>\n",
       "      <td>5.210000</td>\n",
       "    </tr>\n",
       "    <tr>\n",
       "      <th>25%</th>\n",
       "      <td>148.000000</td>\n",
       "      <td>579.000000</td>\n",
       "      <td>21.200000</td>\n",
       "      <td>666.000000</td>\n",
       "      <td>15.297500</td>\n",
       "      <td>3.100000</td>\n",
       "      <td>644.000000</td>\n",
       "      <td>0.000000</td>\n",
       "      <td>600.000000</td>\n",
       "      <td>149.000000</td>\n",
       "      <td>30.105000</td>\n",
       "    </tr>\n",
       "    <tr>\n",
       "      <th>50%</th>\n",
       "      <td>181.000000</td>\n",
       "      <td>734.000000</td>\n",
       "      <td>29.500000</td>\n",
       "      <td>770.000000</td>\n",
       "      <td>20.280000</td>\n",
       "      <td>4.200000</td>\n",
       "      <td>760.000000</td>\n",
       "      <td>0.000000</td>\n",
       "      <td>746.000000</td>\n",
       "      <td>184.000000</td>\n",
       "      <td>44.480000</td>\n",
       "    </tr>\n",
       "    <tr>\n",
       "      <th>75%</th>\n",
       "      <td>225.000000</td>\n",
       "      <td>899.250000</td>\n",
       "      <td>35.200000</td>\n",
       "      <td>844.000000</td>\n",
       "      <td>29.010000</td>\n",
       "      <td>5.200000</td>\n",
       "      <td>839.000000</td>\n",
       "      <td>0.000000</td>\n",
       "      <td>908.000000</td>\n",
       "      <td>233.000000</td>\n",
       "      <td>53.142500</td>\n",
       "    </tr>\n",
       "    <tr>\n",
       "      <th>max</th>\n",
       "      <td>520.000000</td>\n",
       "      <td>1086.000000</td>\n",
       "      <td>44.000000</td>\n",
       "      <td>1008.000000</td>\n",
       "      <td>79.390000</td>\n",
       "      <td>8.700000</td>\n",
       "      <td>1008.000000</td>\n",
       "      <td>8.000000</td>\n",
       "      <td>1086.000000</td>\n",
       "      <td>520.000000</td>\n",
       "      <td>66.840000</td>\n",
       "    </tr>\n",
       "  </tbody>\n",
       "</table>\n",
       "</div>"
      ],
      "text/plain": [
       "       Clearsky DHI          GHI  Temperature  Clearsky DNI  \\\n",
       "count   2872.000000  2872.000000  2872.000000   2872.000000   \n",
       "mean     196.069290   732.918872    28.169394    744.552228   \n",
       "std       70.114563   193.575924     8.048195    134.986357   \n",
       "min       79.000000   320.000000     7.500000    162.000000   \n",
       "25%      148.000000   579.000000    21.200000    666.000000   \n",
       "50%      181.000000   734.000000    29.500000    770.000000   \n",
       "75%      225.000000   899.250000    35.200000    844.000000   \n",
       "max      520.000000  1086.000000    44.000000   1008.000000   \n",
       "\n",
       "       Relative Humidity   Wind Speed          DNI   Cloud Type  Clearsky GHI  \\\n",
       "count        2872.000000  2872.000000  2872.000000  2872.000000   2872.000000   \n",
       "mean           23.098088     4.163022   722.517409     0.430362    744.193593   \n",
       "std            11.223323     1.540044   164.395314     1.591959    189.422882   \n",
       "min             4.460000     0.300000    17.000000     0.000000    358.000000   \n",
       "25%            15.297500     3.100000   644.000000     0.000000    600.000000   \n",
       "50%            20.280000     4.200000   760.000000     0.000000    746.000000   \n",
       "75%            29.010000     5.200000   839.000000     0.000000    908.000000   \n",
       "max            79.390000     8.700000  1008.000000     8.000000   1086.000000   \n",
       "\n",
       "               DHI  Solar Zenith Angle  \n",
       "count  2872.000000         2872.000000  \n",
       "mean    201.089833           40.970286  \n",
       "std      73.647434           15.695106  \n",
       "min      79.000000            5.210000  \n",
       "25%     149.000000           30.105000  \n",
       "50%     184.000000           44.480000  \n",
       "75%     233.000000           53.142500  \n",
       "max     520.000000           66.840000  "
      ]
     },
     "execution_count": 6,
     "metadata": {},
     "output_type": "execute_result"
    }
   ],
   "source": [
    "df.describe()"
   ]
  },
  {
   "cell_type": "code",
   "execution_count": 7,
   "metadata": {},
   "outputs": [],
   "source": [
    "s1= MinMaxScaler(feature_range=(0,1))\n",
    "X= s1.fit_transform(df)"
   ]
  },
  {
   "cell_type": "code",
   "execution_count": 8,
   "metadata": {},
   "outputs": [],
   "source": [
    "s2=MinMaxScaler(feature_range=(0,1))\n",
    "y= s2.fit_transform(df[['GHI']])"
   ]
  },
  {
   "cell_type": "code",
   "execution_count": 9,
   "metadata": {},
   "outputs": [],
   "source": [
    "X_train, X_test, y_train, y_test = train_test_split(X, y, test_size = 0.2, random_state=42,shuffle=False)"
   ]
  },
  {
   "cell_type": "code",
   "execution_count": 10,
   "metadata": {},
   "outputs": [
    {
     "name": "stderr",
     "output_type": "stream",
     "text": [
      "A column-vector y was passed when a 1d array was expected. Please change the shape of y to (n_samples, ), for example using ravel().\n"
     ]
    },
    {
     "name": "stdout",
     "output_type": "stream",
     "text": [
      "AdaBoostRegressor(learning_rate=0.1, n_estimators=100)\n"
     ]
    }
   ],
   "source": [
    "model = AdaBoostRegressor(n_estimators=100,learning_rate=0.1)\n",
    "model.fit(X_train, y_train)\n",
    "print(model)"
   ]
  },
  {
   "cell_type": "code",
   "execution_count": 11,
   "metadata": {},
   "outputs": [
    {
     "name": "stdout",
     "output_type": "stream",
     "text": [
      "inference time: 0.02796316146850586\n"
     ]
    }
   ],
   "source": [
    "import time\n",
    "start=time.time()\n",
    "prediction = model.predict(X_test)\n",
    "end=time.time()\n",
    "continental= end-start\n",
    "print(\"inference time:\",continental)"
   ]
  },
  {
   "cell_type": "code",
   "execution_count": 12,
   "metadata": {},
   "outputs": [
    {
     "data": {
      "text/plain": [
       "(575,)"
      ]
     },
     "execution_count": 12,
     "metadata": {},
     "output_type": "execute_result"
    }
   ],
   "source": [
    "prediction.shape"
   ]
  },
  {
   "cell_type": "code",
   "execution_count": 13,
   "metadata": {},
   "outputs": [],
   "source": [
    "prediction = prediction.reshape(prediction.shape[0], 1)"
   ]
  },
  {
   "cell_type": "code",
   "execution_count": 14,
   "metadata": {},
   "outputs": [
    {
     "data": {
      "text/plain": [
       "(575, 1)"
      ]
     },
     "execution_count": 14,
     "metadata": {},
     "output_type": "execute_result"
    }
   ],
   "source": [
    "prediction.shape"
   ]
  },
  {
   "cell_type": "code",
   "execution_count": 15,
   "metadata": {},
   "outputs": [],
   "source": [
    "Pred= s2.inverse_transform(prediction)"
   ]
  },
  {
   "cell_type": "code",
   "execution_count": 16,
   "metadata": {},
   "outputs": [],
   "source": [
    "Actual= s2.inverse_transform(y_test)"
   ]
  },
  {
   "cell_type": "code",
   "execution_count": 17,
   "metadata": {},
   "outputs": [],
   "source": [
    "Calculated = pd.DataFrame(Pred, columns = ['Prediction'])"
   ]
  },
  {
   "cell_type": "code",
   "execution_count": 18,
   "metadata": {},
   "outputs": [],
   "source": [
    "Calculated.to_csv(r'E:\\CatBoost_1\\Johannesburg\\AdaBoost\\sunny hours\\prediction.csv', index = False)"
   ]
  },
  {
   "cell_type": "code",
   "execution_count": 19,
   "metadata": {},
   "outputs": [],
   "source": [
    "Actual = pd.DataFrame(Actual, columns = ['Actual'])"
   ]
  },
  {
   "cell_type": "code",
   "execution_count": 20,
   "metadata": {},
   "outputs": [],
   "source": [
    "Actual.to_csv(r'E:\\CatBoost_1\\Johannesburg\\AdaBoost\\sunny hours\\Actual.csv', index = False)"
   ]
  },
  {
   "cell_type": "code",
   "execution_count": 21,
   "metadata": {},
   "outputs": [],
   "source": [
    "x=Pred\n",
    "z=Actual"
   ]
  },
  {
   "cell_type": "code",
   "execution_count": 23,
   "metadata": {},
   "outputs": [
    {
     "name": "stdout",
     "output_type": "stream",
     "text": [
      "Root Mean Square Error: 18.470981318656857\n",
      "Mean Square Error: 341.17715087417065\n",
      "Mean Absolute Error: 16.252604383953674\n"
     ]
    }
   ],
   "source": [
    "from sklearn.metrics import mean_squared_error\n",
    "import math\n",
    "\n",
    " \n",
    "MSE = mean_squared_error(z,x)\n",
    " \n",
    "RMSE = math.sqrt(MSE)\n",
    "from sklearn.metrics import mean_absolute_error\n",
    "MAE=mean_absolute_error(z,x)\n",
    "MAE\n",
    "print(\"Root Mean Square Error:\",RMSE)\n",
    "print(\"Mean Square Error:\", MSE)\n",
    "print(\"Mean Absolute Error:\",MAE)\n"
   ]
  },
  {
   "cell_type": "code",
   "execution_count": 24,
   "metadata": {},
   "outputs": [
    {
     "data": {
      "text/plain": [
       "946.3861111111115"
      ]
     },
     "execution_count": 24,
     "metadata": {},
     "output_type": "execute_result"
    }
   ],
   "source": [
    "max= x.max()\n",
    "max"
   ]
  },
  {
   "cell_type": "code",
   "execution_count": 25,
   "metadata": {},
   "outputs": [
    {
     "data": {
      "text/plain": [
       "402.98947368421057"
      ]
     },
     "execution_count": 25,
     "metadata": {},
     "output_type": "execute_result"
    }
   ],
   "source": [
    "min=x.min()\n",
    "min"
   ]
  },
  {
   "cell_type": "code",
   "execution_count": 26,
   "metadata": {},
   "outputs": [
    {
     "name": "stdout",
     "output_type": "stream",
     "text": [
      "Normalized Root Mean Square Error: 3.3991710743962082\n"
     ]
    }
   ],
   "source": [
    "NRMSE= (RMSE/(max-min))*100\n",
    "print(\"Normalized Root Mean Square Error:\",NRMSE)"
   ]
  }
 ],
 "metadata": {
  "kernelspec": {
   "display_name": "Python 3.10.7 64-bit",
   "language": "python",
   "name": "python3"
  },
  "language_info": {
   "codemirror_mode": {
    "name": "ipython",
    "version": 3
   },
   "file_extension": ".py",
   "mimetype": "text/x-python",
   "name": "python",
   "nbconvert_exporter": "python",
   "pygments_lexer": "ipython3",
   "version": "3.10.9"
  },
  "orig_nbformat": 4,
  "vscode": {
   "interpreter": {
    "hash": "ac4210170004fc925580c073d42b7c18005567bca7a1d143f4e4d5a93e6c63c2"
   }
  }
 },
 "nbformat": 4,
 "nbformat_minor": 2
}
