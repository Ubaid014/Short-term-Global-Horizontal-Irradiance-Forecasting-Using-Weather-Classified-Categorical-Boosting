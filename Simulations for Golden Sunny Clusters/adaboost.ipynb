{
 "cells": [
  {
   "cell_type": "code",
   "execution_count": 1,
   "metadata": {},
   "outputs": [
    {
     "name": "stderr",
     "output_type": "stream",
     "text": [
      "c:\\Users\\sunrise\\AppData\\Local\\Programs\\Python\\Python310\\lib\\site-packages\\tqdm\\auto.py:22: TqdmWarning: IProgress not found. Please update jupyter and ipywidgets. See https://ipywidgets.readthedocs.io/en/stable/user_install.html\n",
      "  from .autonotebook import tqdm as notebook_tqdm\n"
     ]
    }
   ],
   "source": [
    "\n",
    "import numpy as np\n",
    "import pandas as pd\n",
    "import seaborn as sns\n",
    "import shap\n",
    "from sklearn.model_selection import train_test_split\n",
    "from sklearn.inspection import permutation_importance\n",
    "from sklearn.preprocessing import MinMaxScaler\n",
    "import tqdm as nootbook_tqdm\n",
    "from sklearn.ensemble import AdaBoostRegressor\n"
   ]
  },
  {
   "cell_type": "code",
   "execution_count": 2,
   "metadata": {},
   "outputs": [
    {
     "data": {
      "text/html": [
       "<div>\n",
       "<style scoped>\n",
       "    .dataframe tbody tr th:only-of-type {\n",
       "        vertical-align: middle;\n",
       "    }\n",
       "\n",
       "    .dataframe tbody tr th {\n",
       "        vertical-align: top;\n",
       "    }\n",
       "\n",
       "    .dataframe thead th {\n",
       "        text-align: right;\n",
       "    }\n",
       "</style>\n",
       "<table border=\"1\" class=\"dataframe\">\n",
       "  <thead>\n",
       "    <tr style=\"text-align: right;\">\n",
       "      <th></th>\n",
       "      <th>GHI</th>\n",
       "      <th>Clearsky DHI</th>\n",
       "      <th>cluster</th>\n",
       "      <th>DHI</th>\n",
       "      <th>DNI</th>\n",
       "      <th>Wind Speed</th>\n",
       "      <th>Relative Humidity</th>\n",
       "      <th>Temperature</th>\n",
       "      <th>Clearsky DNI</th>\n",
       "      <th>Clearsky GHI</th>\n",
       "      <th>Cloud Type</th>\n",
       "      <th>Solar Zenith Angle</th>\n",
       "    </tr>\n",
       "  </thead>\n",
       "  <tbody>\n",
       "    <tr>\n",
       "      <th>0</th>\n",
       "      <td>427</td>\n",
       "      <td>50</td>\n",
       "      <td>0</td>\n",
       "      <td>60</td>\n",
       "      <td>894</td>\n",
       "      <td>4.7</td>\n",
       "      <td>54.23</td>\n",
       "      <td>3.0</td>\n",
       "      <td>959</td>\n",
       "      <td>444</td>\n",
       "      <td>0</td>\n",
       "      <td>65.75</td>\n",
       "    </tr>\n",
       "    <tr>\n",
       "      <th>1</th>\n",
       "      <td>394</td>\n",
       "      <td>48</td>\n",
       "      <td>0</td>\n",
       "      <td>48</td>\n",
       "      <td>933</td>\n",
       "      <td>4.3</td>\n",
       "      <td>55.89</td>\n",
       "      <td>2.3</td>\n",
       "      <td>938</td>\n",
       "      <td>396</td>\n",
       "      <td>0</td>\n",
       "      <td>68.20</td>\n",
       "    </tr>\n",
       "    <tr>\n",
       "      <th>2</th>\n",
       "      <td>370</td>\n",
       "      <td>48</td>\n",
       "      <td>0</td>\n",
       "      <td>54</td>\n",
       "      <td>882</td>\n",
       "      <td>2.9</td>\n",
       "      <td>50.80</td>\n",
       "      <td>-0.9</td>\n",
       "      <td>947</td>\n",
       "      <td>387</td>\n",
       "      <td>0</td>\n",
       "      <td>69.01</td>\n",
       "    </tr>\n",
       "    <tr>\n",
       "      <th>3</th>\n",
       "      <td>438</td>\n",
       "      <td>53</td>\n",
       "      <td>0</td>\n",
       "      <td>55</td>\n",
       "      <td>956</td>\n",
       "      <td>2.9</td>\n",
       "      <td>48.99</td>\n",
       "      <td>-0.4</td>\n",
       "      <td>969</td>\n",
       "      <td>442</td>\n",
       "      <td>0</td>\n",
       "      <td>66.36</td>\n",
       "    </tr>\n",
       "    <tr>\n",
       "      <th>4</th>\n",
       "      <td>484</td>\n",
       "      <td>60</td>\n",
       "      <td>0</td>\n",
       "      <td>60</td>\n",
       "      <td>980</td>\n",
       "      <td>2.9</td>\n",
       "      <td>47.64</td>\n",
       "      <td>0.1</td>\n",
       "      <td>980</td>\n",
       "      <td>484</td>\n",
       "      <td>0</td>\n",
       "      <td>64.37</td>\n",
       "    </tr>\n",
       "  </tbody>\n",
       "</table>\n",
       "</div>"
      ],
      "text/plain": [
       "   GHI  Clearsky DHI  cluster  DHI  DNI  Wind Speed  Relative Humidity  \\\n",
       "0  427            50        0   60  894         4.7              54.23   \n",
       "1  394            48        0   48  933         4.3              55.89   \n",
       "2  370            48        0   54  882         2.9              50.80   \n",
       "3  438            53        0   55  956         2.9              48.99   \n",
       "4  484            60        0   60  980         2.9              47.64   \n",
       "\n",
       "   Temperature  Clearsky DNI  Clearsky GHI  Cloud Type  Solar Zenith Angle  \n",
       "0          3.0           959           444           0               65.75  \n",
       "1          2.3           938           396           0               68.20  \n",
       "2         -0.9           947           387           0               69.01  \n",
       "3         -0.4           969           442           0               66.36  \n",
       "4          0.1           980           484           0               64.37  "
      ]
     },
     "execution_count": 2,
     "metadata": {},
     "output_type": "execute_result"
    }
   ],
   "source": [
    "df=pd.read_csv(\"sunny_cluster.csv\")\n",
    "df.head()"
   ]
  },
  {
   "cell_type": "code",
   "execution_count": 3,
   "metadata": {},
   "outputs": [
    {
     "data": {
      "text/plain": [
       "(4885, 12)"
      ]
     },
     "execution_count": 3,
     "metadata": {},
     "output_type": "execute_result"
    }
   ],
   "source": [
    "df.shape"
   ]
  },
  {
   "cell_type": "code",
   "execution_count": 4,
   "metadata": {},
   "outputs": [
    {
     "data": {
      "text/plain": [
       "GHI                   0\n",
       "Clearsky DHI          0\n",
       "cluster               0\n",
       "DHI                   0\n",
       "DNI                   0\n",
       "Wind Speed            0\n",
       "Relative Humidity     0\n",
       "Temperature           0\n",
       "Clearsky DNI          0\n",
       "Clearsky GHI          0\n",
       "Cloud Type            0\n",
       "Solar Zenith Angle    0\n",
       "dtype: int64"
      ]
     },
     "execution_count": 4,
     "metadata": {},
     "output_type": "execute_result"
    }
   ],
   "source": [
    "df.isnull().sum()"
   ]
  },
  {
   "cell_type": "code",
   "execution_count": 5,
   "metadata": {},
   "outputs": [],
   "source": [
    "df.drop(['cluster'], axis = 1, inplace = True) "
   ]
  },
  {
   "cell_type": "code",
   "execution_count": 6,
   "metadata": {},
   "outputs": [
    {
     "data": {
      "text/html": [
       "<div>\n",
       "<style scoped>\n",
       "    .dataframe tbody tr th:only-of-type {\n",
       "        vertical-align: middle;\n",
       "    }\n",
       "\n",
       "    .dataframe tbody tr th {\n",
       "        vertical-align: top;\n",
       "    }\n",
       "\n",
       "    .dataframe thead th {\n",
       "        text-align: right;\n",
       "    }\n",
       "</style>\n",
       "<table border=\"1\" class=\"dataframe\">\n",
       "  <thead>\n",
       "    <tr style=\"text-align: right;\">\n",
       "      <th></th>\n",
       "      <th>GHI</th>\n",
       "      <th>Clearsky DHI</th>\n",
       "      <th>DHI</th>\n",
       "      <th>DNI</th>\n",
       "      <th>Wind Speed</th>\n",
       "      <th>Relative Humidity</th>\n",
       "      <th>Temperature</th>\n",
       "      <th>Clearsky DNI</th>\n",
       "      <th>Clearsky GHI</th>\n",
       "      <th>Cloud Type</th>\n",
       "      <th>Solar Zenith Angle</th>\n",
       "    </tr>\n",
       "  </thead>\n",
       "  <tbody>\n",
       "    <tr>\n",
       "      <th>count</th>\n",
       "      <td>4885.000000</td>\n",
       "      <td>4885.000000</td>\n",
       "      <td>4885.000000</td>\n",
       "      <td>4885.000000</td>\n",
       "      <td>4885.000000</td>\n",
       "      <td>4885.000000</td>\n",
       "      <td>4885.000000</td>\n",
       "      <td>4885.000000</td>\n",
       "      <td>4885.000000</td>\n",
       "      <td>4885.000000</td>\n",
       "      <td>4885.000000</td>\n",
       "    </tr>\n",
       "    <tr>\n",
       "      <th>mean</th>\n",
       "      <td>616.202456</td>\n",
       "      <td>91.901331</td>\n",
       "      <td>156.200614</td>\n",
       "      <td>726.331832</td>\n",
       "      <td>2.717994</td>\n",
       "      <td>27.690878</td>\n",
       "      <td>16.832487</td>\n",
       "      <td>919.222723</td>\n",
       "      <td>693.633982</td>\n",
       "      <td>1.891709</td>\n",
       "      <td>47.676669</td>\n",
       "    </tr>\n",
       "    <tr>\n",
       "      <th>std</th>\n",
       "      <td>192.619786</td>\n",
       "      <td>40.769207</td>\n",
       "      <td>110.079159</td>\n",
       "      <td>284.966113</td>\n",
       "      <td>1.321444</td>\n",
       "      <td>13.683449</td>\n",
       "      <td>10.539028</td>\n",
       "      <td>102.613445</td>\n",
       "      <td>198.179709</td>\n",
       "      <td>2.796603</td>\n",
       "      <td>14.640440</td>\n",
       "    </tr>\n",
       "    <tr>\n",
       "      <th>min</th>\n",
       "      <td>310.000000</td>\n",
       "      <td>37.000000</td>\n",
       "      <td>37.000000</td>\n",
       "      <td>23.000000</td>\n",
       "      <td>0.200000</td>\n",
       "      <td>5.980000</td>\n",
       "      <td>-12.600000</td>\n",
       "      <td>286.000000</td>\n",
       "      <td>321.000000</td>\n",
       "      <td>0.000000</td>\n",
       "      <td>16.250000</td>\n",
       "    </tr>\n",
       "    <tr>\n",
       "      <th>25%</th>\n",
       "      <td>455.000000</td>\n",
       "      <td>68.000000</td>\n",
       "      <td>74.000000</td>\n",
       "      <td>522.000000</td>\n",
       "      <td>1.800000</td>\n",
       "      <td>16.590000</td>\n",
       "      <td>8.300000</td>\n",
       "      <td>879.000000</td>\n",
       "      <td>522.000000</td>\n",
       "      <td>0.000000</td>\n",
       "      <td>36.120000</td>\n",
       "    </tr>\n",
       "    <tr>\n",
       "      <th>50%</th>\n",
       "      <td>588.000000</td>\n",
       "      <td>84.000000</td>\n",
       "      <td>105.000000</td>\n",
       "      <td>837.000000</td>\n",
       "      <td>2.600000</td>\n",
       "      <td>25.570000</td>\n",
       "      <td>18.400000</td>\n",
       "      <td>945.000000</td>\n",
       "      <td>688.000000</td>\n",
       "      <td>0.000000</td>\n",
       "      <td>49.730000</td>\n",
       "    </tr>\n",
       "    <tr>\n",
       "      <th>75%</th>\n",
       "      <td>763.000000</td>\n",
       "      <td>102.000000</td>\n",
       "      <td>221.000000</td>\n",
       "      <td>960.000000</td>\n",
       "      <td>3.400000</td>\n",
       "      <td>36.500000</td>\n",
       "      <td>26.000000</td>\n",
       "      <td>987.000000</td>\n",
       "      <td>864.000000</td>\n",
       "      <td>4.000000</td>\n",
       "      <td>60.360000</td>\n",
       "    </tr>\n",
       "    <tr>\n",
       "      <th>max</th>\n",
       "      <td>1060.000000</td>\n",
       "      <td>377.000000</td>\n",
       "      <td>512.000000</td>\n",
       "      <td>1092.000000</td>\n",
       "      <td>8.700000</td>\n",
       "      <td>77.970000</td>\n",
       "      <td>34.100000</td>\n",
       "      <td>1092.000000</td>\n",
       "      <td>1065.000000</td>\n",
       "      <td>9.000000</td>\n",
       "      <td>72.260000</td>\n",
       "    </tr>\n",
       "  </tbody>\n",
       "</table>\n",
       "</div>"
      ],
      "text/plain": [
       "               GHI  Clearsky DHI          DHI          DNI   Wind Speed  \\\n",
       "count  4885.000000   4885.000000  4885.000000  4885.000000  4885.000000   \n",
       "mean    616.202456     91.901331   156.200614   726.331832     2.717994   \n",
       "std     192.619786     40.769207   110.079159   284.966113     1.321444   \n",
       "min     310.000000     37.000000    37.000000    23.000000     0.200000   \n",
       "25%     455.000000     68.000000    74.000000   522.000000     1.800000   \n",
       "50%     588.000000     84.000000   105.000000   837.000000     2.600000   \n",
       "75%     763.000000    102.000000   221.000000   960.000000     3.400000   \n",
       "max    1060.000000    377.000000   512.000000  1092.000000     8.700000   \n",
       "\n",
       "       Relative Humidity  Temperature  Clearsky DNI  Clearsky GHI  \\\n",
       "count        4885.000000  4885.000000   4885.000000   4885.000000   \n",
       "mean           27.690878    16.832487    919.222723    693.633982   \n",
       "std            13.683449    10.539028    102.613445    198.179709   \n",
       "min             5.980000   -12.600000    286.000000    321.000000   \n",
       "25%            16.590000     8.300000    879.000000    522.000000   \n",
       "50%            25.570000    18.400000    945.000000    688.000000   \n",
       "75%            36.500000    26.000000    987.000000    864.000000   \n",
       "max            77.970000    34.100000   1092.000000   1065.000000   \n",
       "\n",
       "        Cloud Type  Solar Zenith Angle  \n",
       "count  4885.000000         4885.000000  \n",
       "mean      1.891709           47.676669  \n",
       "std       2.796603           14.640440  \n",
       "min       0.000000           16.250000  \n",
       "25%       0.000000           36.120000  \n",
       "50%       0.000000           49.730000  \n",
       "75%       4.000000           60.360000  \n",
       "max       9.000000           72.260000  "
      ]
     },
     "execution_count": 6,
     "metadata": {},
     "output_type": "execute_result"
    }
   ],
   "source": [
    "df.describe()"
   ]
  },
  {
   "cell_type": "code",
   "execution_count": 7,
   "metadata": {},
   "outputs": [],
   "source": [
    "s1= MinMaxScaler(feature_range=(0,1))\n",
    "X= s1.fit_transform(df)"
   ]
  },
  {
   "cell_type": "code",
   "execution_count": 8,
   "metadata": {},
   "outputs": [],
   "source": [
    "s2=MinMaxScaler(feature_range=(0,1))\n",
    "y= s2.fit_transform(df[['GHI']])"
   ]
  },
  {
   "cell_type": "code",
   "execution_count": 9,
   "metadata": {},
   "outputs": [],
   "source": [
    "X_train, X_test, y_train, y_test = train_test_split(X, y, test_size = 0.2, random_state=42,shuffle=False)"
   ]
  },
  {
   "cell_type": "code",
   "execution_count": 10,
   "metadata": {},
   "outputs": [
    {
     "name": "stderr",
     "output_type": "stream",
     "text": [
      "A column-vector y was passed when a 1d array was expected. Please change the shape of y to (n_samples, ), for example using ravel().\n"
     ]
    },
    {
     "name": "stdout",
     "output_type": "stream",
     "text": [
      "AdaBoostRegressor(learning_rate=0.1, n_estimators=100)\n"
     ]
    }
   ],
   "source": [
    "model = AdaBoostRegressor(n_estimators=100,learning_rate=0.1)\n",
    "model.fit(X_train, y_train)\n",
    "print(model)"
   ]
  },
  {
   "cell_type": "code",
   "execution_count": 11,
   "metadata": {},
   "outputs": [
    {
     "name": "stdout",
     "output_type": "stream",
     "text": [
      "Inference time: 0.039998531341552734\n"
     ]
    }
   ],
   "source": [
    "import time\n",
    "start=time.time()\n",
    "prediction = model.predict(X_test)\n",
    "end=time.time()\n",
    "continental=end-start\n",
    "prediction = model.predict(X_test)\n",
    "print(\"Inference time:\",continental)"
   ]
  },
  {
   "cell_type": "code",
   "execution_count": 12,
   "metadata": {},
   "outputs": [
    {
     "data": {
      "text/plain": [
       "(977,)"
      ]
     },
     "execution_count": 12,
     "metadata": {},
     "output_type": "execute_result"
    }
   ],
   "source": [
    "prediction.shape"
   ]
  },
  {
   "cell_type": "code",
   "execution_count": 13,
   "metadata": {},
   "outputs": [],
   "source": [
    "prediction = prediction.reshape(prediction.shape[0], 1)"
   ]
  },
  {
   "cell_type": "code",
   "execution_count": 14,
   "metadata": {},
   "outputs": [
    {
     "data": {
      "text/plain": [
       "(977, 1)"
      ]
     },
     "execution_count": 14,
     "metadata": {},
     "output_type": "execute_result"
    }
   ],
   "source": [
    "prediction.shape"
   ]
  },
  {
   "cell_type": "code",
   "execution_count": 15,
   "metadata": {},
   "outputs": [],
   "source": [
    "Pred= s2.inverse_transform(prediction)"
   ]
  },
  {
   "cell_type": "code",
   "execution_count": 16,
   "metadata": {},
   "outputs": [],
   "source": [
    "Actual= s2.inverse_transform(y_test)"
   ]
  },
  {
   "cell_type": "code",
   "execution_count": 17,
   "metadata": {},
   "outputs": [],
   "source": [
    "Calculated = pd.DataFrame(Pred, columns = ['Prediction'])"
   ]
  },
  {
   "cell_type": "code",
   "execution_count": 18,
   "metadata": {},
   "outputs": [],
   "source": [
    "Calculated.to_csv(r'E:\\CatBoost_1\\Golden\\AdaBoost\\sunny hours\\prediction.csv', index = False)"
   ]
  },
  {
   "cell_type": "code",
   "execution_count": 19,
   "metadata": {},
   "outputs": [],
   "source": [
    "Actual = pd.DataFrame(Actual, columns = ['Actual'])"
   ]
  },
  {
   "cell_type": "code",
   "execution_count": 20,
   "metadata": {},
   "outputs": [],
   "source": [
    "Actual.to_csv(r'E:\\CatBoost_1\\Golden\\AdaBoost\\sunny hours\\Actual.csv', index = False)"
   ]
  },
  {
   "cell_type": "code",
   "execution_count": 21,
   "metadata": {},
   "outputs": [],
   "source": [
    "x=Pred\n",
    "z=Actual"
   ]
  },
  {
   "cell_type": "code",
   "execution_count": 22,
   "metadata": {},
   "outputs": [
    {
     "name": "stdout",
     "output_type": "stream",
     "text": [
      "Root Mean Square Error: 17.477440121496183\n",
      "Mean Square Error: 305.4609132004845\n",
      "Mean Absolute Error: 15.588841619139162\n"
     ]
    }
   ],
   "source": [
    "from sklearn.metrics import mean_squared_error\n",
    "import math\n",
    "\n",
    " \n",
    "MSE = mean_squared_error(z,x)\n",
    " \n",
    "RMSE = math.sqrt(MSE)\n",
    "from sklearn.metrics import mean_absolute_error\n",
    "MAE=mean_absolute_error(z,x)\n",
    "MAE\n",
    "\n",
    "\n",
    "print(\"Root Mean Square Error:\",RMSE)\n",
    "print(\"Mean Square Error:\", MSE)\n",
    "print(\"Mean Absolute Error:\",MAE)\n"
   ]
  },
  {
   "cell_type": "code",
   "execution_count": 23,
   "metadata": {},
   "outputs": [
    {
     "data": {
      "text/plain": [
       "817.5384615384609"
      ]
     },
     "execution_count": 23,
     "metadata": {},
     "output_type": "execute_result"
    }
   ],
   "source": [
    "max= x.max()\n",
    "max"
   ]
  },
  {
   "cell_type": "code",
   "execution_count": 24,
   "metadata": {},
   "outputs": [
    {
     "data": {
      "text/plain": [
       "369.5711711711711"
      ]
     },
     "execution_count": 24,
     "metadata": {},
     "output_type": "execute_result"
    }
   ],
   "source": [
    "min=x.min()\n",
    "min"
   ]
  },
  {
   "cell_type": "code",
   "execution_count": 25,
   "metadata": {},
   "outputs": [
    {
     "name": "stdout",
     "output_type": "stream",
     "text": [
      "Normalized Root Mean Square Error: 3.9014991713270795\n"
     ]
    }
   ],
   "source": [
    "NRMSE= (RMSE/(max-min))*100\n",
    "print(\"Normalized Root Mean Square Error:\",NRMSE)"
   ]
  }
 ],
 "metadata": {
  "kernelspec": {
   "display_name": "Python 3.10.7 64-bit",
   "language": "python",
   "name": "python3"
  },
  "language_info": {
   "codemirror_mode": {
    "name": "ipython",
    "version": 3
   },
   "file_extension": ".py",
   "mimetype": "text/x-python",
   "name": "python",
   "nbconvert_exporter": "python",
   "pygments_lexer": "ipython3",
   "version": "3.10.9"
  },
  "orig_nbformat": 4,
  "vscode": {
   "interpreter": {
    "hash": "ac4210170004fc925580c073d42b7c18005567bca7a1d143f4e4d5a93e6c63c2"
   }
  }
 },
 "nbformat": 4,
 "nbformat_minor": 2
}
